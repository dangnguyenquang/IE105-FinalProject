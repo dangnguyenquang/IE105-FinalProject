{
 "cells": [
  {
   "cell_type": "markdown",
   "id": "623d984a",
   "metadata": {
    "id": "623d984a"
   },
   "source": [
    "# DATA COLLECTION AND EXPLORATION"
   ]
  },
  {
   "cell_type": "code",
   "execution_count": 1,
   "id": "ff0850f9",
   "metadata": {
    "id": "ff0850f9"
   },
   "outputs": [],
   "source": [
    "import pandas as pd\n",
    "import numpy as np\n",
    "import seaborn as sns\n",
    "import matplotlib.pyplot as plt\n",
    "from sklearn import preprocessing\n",
    "from sklearn.preprocessing import MinMaxScaler\n",
    "from sklearn.model_selection import train_test_split\n",
    "import tensorflow as tf\n",
    "from tensorflow import keras\n",
    "from tensorflow.keras import layers\n",
    "from tensorflow.keras.layers import Dense, Input,Dropout\n",
    "from sklearn import metrics\n",
    "import time\n",
    "import datetime\n",
    "import os\n",
    "%matplotlib inline"
   ]
  },
  {
   "cell_type": "markdown",
   "id": "C-jKvJcZS13s",
   "metadata": {
    "id": "C-jKvJcZS13s"
   },
   "source": [
    "## IMPORT DATASET"
   ]
  },
  {
   "cell_type": "code",
   "execution_count": 2,
   "id": "9cbd3192",
   "metadata": {
    "id": "9cbd3192",
    "outputId": "7c90d142-4a2d-4115-a734-4e871ca9e6d2"
   },
   "outputs": [
    {
     "name": "stderr",
     "output_type": "stream",
     "text": [
      "C:\\Users\\DELL\\AppData\\Local\\Temp\\ipykernel_18668\\856072895.py:1: DtypeWarning: Columns (0,3,5,6,8,9,10,11,12,13,14,15,16,17,18,19,20,21,22,23,24,25,26,27,28,29,30,31,32,33,34,35,36,37,38,39,40,41,42,43,44,45,46,47,48,49,50,51,52,53,54,55,56,57,58,59,60,61,62,63,64,65,66,67,68,69,70,71,72,73,74,75,76,77,78,79,80,81,82,83,84,85,86) have mixed types. Specify dtype option on import or set low_memory=False.\n",
      "  df = pd.read_csv('./CIC-DDoS-Dataset2019.csv')\n"
     ]
    }
   ],
   "source": [
    "df = pd.read_csv('./CIC-DDoS-Dataset2019.csv')"
   ]
  },
  {
   "cell_type": "code",
   "execution_count": 3,
   "id": "56f93f6b",
   "metadata": {
    "id": "56f93f6b"
   },
   "outputs": [],
   "source": [
    "columns_to_skip = [1,2,4,7,87]\n",
    "\n",
    "# Duyệt qua tất cả các cột, bỏ qua các cột không phải mixed types\n",
    "for i, column in enumerate(df.columns):\n",
    "    if i not in columns_to_skip:\n",
    "        df[column] = pd.to_numeric(df[column].astype(str).str.replace(\"'\", \"\"), errors='coerce')"
   ]
  },
  {
   "cell_type": "markdown",
   "id": "7d7b9c9a",
   "metadata": {
    "id": "mes3aAMoS6lV"
   },
   "source": [
    "## EDIT COLUMN NAMES"
   ]
  },
  {
   "cell_type": "code",
   "execution_count": 4,
   "id": "8994df82",
   "metadata": {
    "id": "8994df82"
   },
   "outputs": [],
   "source": [
    "#Xóa bỏ các khoảng trắng trước và sau trong tên cột (nếu có)\n",
    "df = df.rename(columns=lambda x: x.strip())"
   ]
  },
  {
   "cell_type": "code",
   "execution_count": 5,
   "id": "3b1bfd61",
   "metadata": {
    "colab": {
     "base_uri": "https://localhost:8080/",
     "height": 725
    },
    "id": "3b1bfd61",
    "outputId": "50d9ee56-7be8-4eb1-994b-157c31136ad1"
   },
   "outputs": [
    {
     "data": {
      "text/html": [
       "<div>\n",
       "<style scoped>\n",
       "    .dataframe tbody tr th:only-of-type {\n",
       "        vertical-align: middle;\n",
       "    }\n",
       "\n",
       "    .dataframe tbody tr th {\n",
       "        vertical-align: top;\n",
       "    }\n",
       "\n",
       "    .dataframe thead th {\n",
       "        text-align: right;\n",
       "    }\n",
       "</style>\n",
       "<table border=\"1\" class=\"dataframe\">\n",
       "  <thead>\n",
       "    <tr style=\"text-align: right;\">\n",
       "      <th></th>\n",
       "      <th>Unnamed: 0</th>\n",
       "      <th>Flow ID</th>\n",
       "      <th>Source IP</th>\n",
       "      <th>Source Port</th>\n",
       "      <th>Destination IP</th>\n",
       "      <th>Destination Port</th>\n",
       "      <th>Protocol</th>\n",
       "      <th>Timestamp</th>\n",
       "      <th>Flow Duration</th>\n",
       "      <th>Total Fwd Packets</th>\n",
       "      <th>...</th>\n",
       "      <th>Active Std</th>\n",
       "      <th>Active Max</th>\n",
       "      <th>Active Min</th>\n",
       "      <th>Idle Mean</th>\n",
       "      <th>Idle Std</th>\n",
       "      <th>Idle Max</th>\n",
       "      <th>Idle Min</th>\n",
       "      <th>SimillarHTTP</th>\n",
       "      <th>Inbound</th>\n",
       "      <th>Label</th>\n",
       "    </tr>\n",
       "  </thead>\n",
       "  <tbody>\n",
       "    <tr>\n",
       "      <th>0</th>\n",
       "      <td>0.0</td>\n",
       "      <td>192.168.50.7-23.32.166.121-52380-443-6</td>\n",
       "      <td>192.168.50.7</td>\n",
       "      <td>52380.0</td>\n",
       "      <td>23.32.166.121</td>\n",
       "      <td>443.0</td>\n",
       "      <td>6.0</td>\n",
       "      <td>34:28.6</td>\n",
       "      <td>1.0</td>\n",
       "      <td>2.0</td>\n",
       "      <td>...</td>\n",
       "      <td>0.000000e+00</td>\n",
       "      <td>0.0</td>\n",
       "      <td>0.0</td>\n",
       "      <td>0.000000e+00</td>\n",
       "      <td>0.000000e+00</td>\n",
       "      <td>0.0</td>\n",
       "      <td>0.0</td>\n",
       "      <td>0.0</td>\n",
       "      <td>0.0</td>\n",
       "      <td>BENIGN</td>\n",
       "    </tr>\n",
       "    <tr>\n",
       "      <th>1</th>\n",
       "      <td>1.0</td>\n",
       "      <td>192.168.50.7-23.32.166.121-52380-443-6</td>\n",
       "      <td>23.32.166.121</td>\n",
       "      <td>443.0</td>\n",
       "      <td>192.168.50.7</td>\n",
       "      <td>52380.0</td>\n",
       "      <td>6.0</td>\n",
       "      <td>34:28.6</td>\n",
       "      <td>2.0</td>\n",
       "      <td>3.0</td>\n",
       "      <td>...</td>\n",
       "      <td>0.000000e+00</td>\n",
       "      <td>0.0</td>\n",
       "      <td>0.0</td>\n",
       "      <td>0.000000e+00</td>\n",
       "      <td>0.000000e+00</td>\n",
       "      <td>0.0</td>\n",
       "      <td>0.0</td>\n",
       "      <td>0.0</td>\n",
       "      <td>1.0</td>\n",
       "      <td>BENIGN</td>\n",
       "    </tr>\n",
       "    <tr>\n",
       "      <th>2</th>\n",
       "      <td>64469.0</td>\n",
       "      <td>192.168.50.7-23.32.166.121-52380-443-6</td>\n",
       "      <td>23.32.166.121</td>\n",
       "      <td>443.0</td>\n",
       "      <td>192.168.50.7</td>\n",
       "      <td>52380.0</td>\n",
       "      <td>6.0</td>\n",
       "      <td>34:28.6</td>\n",
       "      <td>218.0</td>\n",
       "      <td>1.0</td>\n",
       "      <td>...</td>\n",
       "      <td>0.000000e+00</td>\n",
       "      <td>0.0</td>\n",
       "      <td>0.0</td>\n",
       "      <td>0.000000e+00</td>\n",
       "      <td>0.000000e+00</td>\n",
       "      <td>0.0</td>\n",
       "      <td>0.0</td>\n",
       "      <td>0.0</td>\n",
       "      <td>1.0</td>\n",
       "      <td>BENIGN</td>\n",
       "    </tr>\n",
       "    <tr>\n",
       "      <th>3</th>\n",
       "      <td>171.0</td>\n",
       "      <td>192.168.50.253-224.0.0.5-0-0-0</td>\n",
       "      <td>192.168.50.253</td>\n",
       "      <td>0.0</td>\n",
       "      <td>224.0.0.5</td>\n",
       "      <td>0.0</td>\n",
       "      <td>0.0</td>\n",
       "      <td>34:28.7</td>\n",
       "      <td>115366430.0</td>\n",
       "      <td>52.0</td>\n",
       "      <td>...</td>\n",
       "      <td>1.073087e+00</td>\n",
       "      <td>8.0</td>\n",
       "      <td>4.0</td>\n",
       "      <td>9.613862e+06</td>\n",
       "      <td>2.884856e+05</td>\n",
       "      <td>9988327.0</td>\n",
       "      <td>9110910.0</td>\n",
       "      <td>0.0</td>\n",
       "      <td>0.0</td>\n",
       "      <td>BENIGN</td>\n",
       "    </tr>\n",
       "    <tr>\n",
       "      <th>4</th>\n",
       "      <td>186.0</td>\n",
       "      <td>255.255.255.255-0.0.0.0-67-68-17</td>\n",
       "      <td>0.0.0.0</td>\n",
       "      <td>68.0</td>\n",
       "      <td>255.255.255.255</td>\n",
       "      <td>67.0</td>\n",
       "      <td>17.0</td>\n",
       "      <td>34:30.0</td>\n",
       "      <td>109157387.0</td>\n",
       "      <td>16.0</td>\n",
       "      <td>...</td>\n",
       "      <td>3.774939e+06</td>\n",
       "      <td>10054849.0</td>\n",
       "      <td>2647210.0</td>\n",
       "      <td>1.015194e+07</td>\n",
       "      <td>2.795046e+06</td>\n",
       "      <td>14600796.0</td>\n",
       "      <td>6304546.0</td>\n",
       "      <td>0.0</td>\n",
       "      <td>0.0</td>\n",
       "      <td>BENIGN</td>\n",
       "    </tr>\n",
       "    <tr>\n",
       "      <th>5</th>\n",
       "      <td>184.0</td>\n",
       "      <td>192.168.50.254-224.0.0.5-0-0-0</td>\n",
       "      <td>192.168.50.254</td>\n",
       "      <td>0.0</td>\n",
       "      <td>224.0.0.5</td>\n",
       "      <td>0.0</td>\n",
       "      <td>0.0</td>\n",
       "      <td>34:32.7</td>\n",
       "      <td>115998008.0</td>\n",
       "      <td>45.0</td>\n",
       "      <td>...</td>\n",
       "      <td>1.237722e+06</td>\n",
       "      <td>4287600.0</td>\n",
       "      <td>4.0</td>\n",
       "      <td>9.309195e+06</td>\n",
       "      <td>1.203884e+06</td>\n",
       "      <td>9988912.0</td>\n",
       "      <td>5659882.0</td>\n",
       "      <td>0.0</td>\n",
       "      <td>0.0</td>\n",
       "      <td>BENIGN</td>\n",
       "    </tr>\n",
       "    <tr>\n",
       "      <th>6</th>\n",
       "      <td>185.0</td>\n",
       "      <td>8.0.6.4-8.6.0.1-0-0-0</td>\n",
       "      <td>8.6.0.1</td>\n",
       "      <td>0.0</td>\n",
       "      <td>8.0.6.4</td>\n",
       "      <td>0.0</td>\n",
       "      <td>0.0</td>\n",
       "      <td>34:33.6</td>\n",
       "      <td>74867914.0</td>\n",
       "      <td>6.0</td>\n",
       "      <td>...</td>\n",
       "      <td>0.000000e+00</td>\n",
       "      <td>2.0</td>\n",
       "      <td>2.0</td>\n",
       "      <td>3.743396e+07</td>\n",
       "      <td>2.412200e+07</td>\n",
       "      <td>54490788.0</td>\n",
       "      <td>20377122.0</td>\n",
       "      <td>0.0</td>\n",
       "      <td>0.0</td>\n",
       "      <td>BENIGN</td>\n",
       "    </tr>\n",
       "    <tr>\n",
       "      <th>7</th>\n",
       "      <td>194.0</td>\n",
       "      <td>192.168.50.6-74.125.28.94-58124-443-6</td>\n",
       "      <td>192.168.50.6</td>\n",
       "      <td>58124.0</td>\n",
       "      <td>74.125.28.94</td>\n",
       "      <td>443.0</td>\n",
       "      <td>6.0</td>\n",
       "      <td>34:36.6</td>\n",
       "      <td>87964914.0</td>\n",
       "      <td>48.0</td>\n",
       "      <td>...</td>\n",
       "      <td>3.795089e+02</td>\n",
       "      <td>217977.0</td>\n",
       "      <td>217218.0</td>\n",
       "      <td>2.903140e+07</td>\n",
       "      <td>1.557271e+07</td>\n",
       "      <td>46962397.0</td>\n",
       "      <td>18895963.0</td>\n",
       "      <td>0.0</td>\n",
       "      <td>0.0</td>\n",
       "      <td>BENIGN</td>\n",
       "    </tr>\n",
       "    <tr>\n",
       "      <th>8</th>\n",
       "      <td>169864.0</td>\n",
       "      <td>192.168.50.6-4.2.2.4-57629-53-17</td>\n",
       "      <td>192.168.50.6</td>\n",
       "      <td>57629.0</td>\n",
       "      <td>4.2.2.4</td>\n",
       "      <td>53.0</td>\n",
       "      <td>17.0</td>\n",
       "      <td>34:36.6</td>\n",
       "      <td>20823.0</td>\n",
       "      <td>2.0</td>\n",
       "      <td>...</td>\n",
       "      <td>0.000000e+00</td>\n",
       "      <td>0.0</td>\n",
       "      <td>0.0</td>\n",
       "      <td>0.000000e+00</td>\n",
       "      <td>0.000000e+00</td>\n",
       "      <td>0.0</td>\n",
       "      <td>0.0</td>\n",
       "      <td>0.0</td>\n",
       "      <td>0.0</td>\n",
       "      <td>BENIGN</td>\n",
       "    </tr>\n",
       "    <tr>\n",
       "      <th>9</th>\n",
       "      <td>41274.0</td>\n",
       "      <td>192.168.50.6-8.8.8.8-57629-53-17</td>\n",
       "      <td>192.168.50.6</td>\n",
       "      <td>57629.0</td>\n",
       "      <td>8.8.8.8</td>\n",
       "      <td>53.0</td>\n",
       "      <td>17.0</td>\n",
       "      <td>34:36.6</td>\n",
       "      <td>46885.0</td>\n",
       "      <td>2.0</td>\n",
       "      <td>...</td>\n",
       "      <td>0.000000e+00</td>\n",
       "      <td>0.0</td>\n",
       "      <td>0.0</td>\n",
       "      <td>0.000000e+00</td>\n",
       "      <td>0.000000e+00</td>\n",
       "      <td>0.0</td>\n",
       "      <td>0.0</td>\n",
       "      <td>0.0</td>\n",
       "      <td>0.0</td>\n",
       "      <td>BENIGN</td>\n",
       "    </tr>\n",
       "  </tbody>\n",
       "</table>\n",
       "<p>10 rows × 88 columns</p>\n",
       "</div>"
      ],
      "text/plain": [
       "   Unnamed: 0                                 Flow ID       Source IP  \\\n",
       "0         0.0  192.168.50.7-23.32.166.121-52380-443-6    192.168.50.7   \n",
       "1         1.0  192.168.50.7-23.32.166.121-52380-443-6   23.32.166.121   \n",
       "2     64469.0  192.168.50.7-23.32.166.121-52380-443-6   23.32.166.121   \n",
       "3       171.0          192.168.50.253-224.0.0.5-0-0-0  192.168.50.253   \n",
       "4       186.0        255.255.255.255-0.0.0.0-67-68-17         0.0.0.0   \n",
       "5       184.0          192.168.50.254-224.0.0.5-0-0-0  192.168.50.254   \n",
       "6       185.0                   8.0.6.4-8.6.0.1-0-0-0         8.6.0.1   \n",
       "7       194.0   192.168.50.6-74.125.28.94-58124-443-6    192.168.50.6   \n",
       "8    169864.0        192.168.50.6-4.2.2.4-57629-53-17    192.168.50.6   \n",
       "9     41274.0        192.168.50.6-8.8.8.8-57629-53-17    192.168.50.6   \n",
       "\n",
       "   Source Port   Destination IP  Destination Port  Protocol Timestamp  \\\n",
       "0      52380.0    23.32.166.121             443.0       6.0   34:28.6   \n",
       "1        443.0     192.168.50.7           52380.0       6.0   34:28.6   \n",
       "2        443.0     192.168.50.7           52380.0       6.0   34:28.6   \n",
       "3          0.0        224.0.0.5               0.0       0.0   34:28.7   \n",
       "4         68.0  255.255.255.255              67.0      17.0   34:30.0   \n",
       "5          0.0        224.0.0.5               0.0       0.0   34:32.7   \n",
       "6          0.0          8.0.6.4               0.0       0.0   34:33.6   \n",
       "7      58124.0     74.125.28.94             443.0       6.0   34:36.6   \n",
       "8      57629.0          4.2.2.4              53.0      17.0   34:36.6   \n",
       "9      57629.0          8.8.8.8              53.0      17.0   34:36.6   \n",
       "\n",
       "   Flow Duration  Total Fwd Packets  ...    Active Std  Active Max  \\\n",
       "0            1.0                2.0  ...  0.000000e+00         0.0   \n",
       "1            2.0                3.0  ...  0.000000e+00         0.0   \n",
       "2          218.0                1.0  ...  0.000000e+00         0.0   \n",
       "3    115366430.0               52.0  ...  1.073087e+00         8.0   \n",
       "4    109157387.0               16.0  ...  3.774939e+06  10054849.0   \n",
       "5    115998008.0               45.0  ...  1.237722e+06   4287600.0   \n",
       "6     74867914.0                6.0  ...  0.000000e+00         2.0   \n",
       "7     87964914.0               48.0  ...  3.795089e+02    217977.0   \n",
       "8        20823.0                2.0  ...  0.000000e+00         0.0   \n",
       "9        46885.0                2.0  ...  0.000000e+00         0.0   \n",
       "\n",
       "   Active Min     Idle Mean      Idle Std    Idle Max    Idle Min  \\\n",
       "0         0.0  0.000000e+00  0.000000e+00         0.0         0.0   \n",
       "1         0.0  0.000000e+00  0.000000e+00         0.0         0.0   \n",
       "2         0.0  0.000000e+00  0.000000e+00         0.0         0.0   \n",
       "3         4.0  9.613862e+06  2.884856e+05   9988327.0   9110910.0   \n",
       "4   2647210.0  1.015194e+07  2.795046e+06  14600796.0   6304546.0   \n",
       "5         4.0  9.309195e+06  1.203884e+06   9988912.0   5659882.0   \n",
       "6         2.0  3.743396e+07  2.412200e+07  54490788.0  20377122.0   \n",
       "7    217218.0  2.903140e+07  1.557271e+07  46962397.0  18895963.0   \n",
       "8         0.0  0.000000e+00  0.000000e+00         0.0         0.0   \n",
       "9         0.0  0.000000e+00  0.000000e+00         0.0         0.0   \n",
       "\n",
       "   SimillarHTTP  Inbound   Label  \n",
       "0           0.0      0.0  BENIGN  \n",
       "1           0.0      1.0  BENIGN  \n",
       "2           0.0      1.0  BENIGN  \n",
       "3           0.0      0.0  BENIGN  \n",
       "4           0.0      0.0  BENIGN  \n",
       "5           0.0      0.0  BENIGN  \n",
       "6           0.0      0.0  BENIGN  \n",
       "7           0.0      0.0  BENIGN  \n",
       "8           0.0      0.0  BENIGN  \n",
       "9           0.0      0.0  BENIGN  \n",
       "\n",
       "[10 rows x 88 columns]"
      ]
     },
     "execution_count": 5,
     "metadata": {},
     "output_type": "execute_result"
    }
   ],
   "source": [
    "df.head(10)"
   ]
  },
  {
   "cell_type": "code",
   "execution_count": 6,
   "id": "049a9d9a",
   "metadata": {
    "colab": {
     "base_uri": "https://localhost:8080/",
     "height": 384
    },
    "id": "049a9d9a",
    "outputId": "c95b3c26-848e-4e47-9c7d-65fbffad2785"
   },
   "outputs": [
    {
     "data": {
      "text/html": [
       "<div>\n",
       "<style scoped>\n",
       "    .dataframe tbody tr th:only-of-type {\n",
       "        vertical-align: middle;\n",
       "    }\n",
       "\n",
       "    .dataframe tbody tr th {\n",
       "        vertical-align: top;\n",
       "    }\n",
       "\n",
       "    .dataframe thead th {\n",
       "        text-align: right;\n",
       "    }\n",
       "</style>\n",
       "<table border=\"1\" class=\"dataframe\">\n",
       "  <thead>\n",
       "    <tr style=\"text-align: right;\">\n",
       "      <th></th>\n",
       "      <th>Unnamed: 0</th>\n",
       "      <th>Source Port</th>\n",
       "      <th>Destination Port</th>\n",
       "      <th>Protocol</th>\n",
       "      <th>Flow Duration</th>\n",
       "      <th>Total Fwd Packets</th>\n",
       "      <th>Total Backward Packets</th>\n",
       "      <th>Total Length of Fwd Packets</th>\n",
       "      <th>Total Length of Bwd Packets</th>\n",
       "      <th>Fwd Packet Length Max</th>\n",
       "      <th>...</th>\n",
       "      <th>Active Mean</th>\n",
       "      <th>Active Std</th>\n",
       "      <th>Active Max</th>\n",
       "      <th>Active Min</th>\n",
       "      <th>Idle Mean</th>\n",
       "      <th>Idle Std</th>\n",
       "      <th>Idle Max</th>\n",
       "      <th>Idle Min</th>\n",
       "      <th>SimillarHTTP</th>\n",
       "      <th>Inbound</th>\n",
       "    </tr>\n",
       "  </thead>\n",
       "  <tbody>\n",
       "    <tr>\n",
       "      <th>count</th>\n",
       "      <td>137116.000000</td>\n",
       "      <td>137116.000000</td>\n",
       "      <td>137116.000000</td>\n",
       "      <td>137116.000000</td>\n",
       "      <td>1.371160e+05</td>\n",
       "      <td>137116.00000</td>\n",
       "      <td>137116.000000</td>\n",
       "      <td>1.371160e+05</td>\n",
       "      <td>1.371160e+05</td>\n",
       "      <td>137116.000000</td>\n",
       "      <td>...</td>\n",
       "      <td>1.371160e+05</td>\n",
       "      <td>1.371160e+05</td>\n",
       "      <td>1.371160e+05</td>\n",
       "      <td>1.371160e+05</td>\n",
       "      <td>1.371160e+05</td>\n",
       "      <td>1.371160e+05</td>\n",
       "      <td>1.371160e+05</td>\n",
       "      <td>1.371160e+05</td>\n",
       "      <td>135134.0</td>\n",
       "      <td>137116.000000</td>\n",
       "    </tr>\n",
       "    <tr>\n",
       "      <th>mean</th>\n",
       "      <td>95761.369774</td>\n",
       "      <td>35858.029639</td>\n",
       "      <td>20548.012953</td>\n",
       "      <td>10.098048</td>\n",
       "      <td>6.575324e+06</td>\n",
       "      <td>16.32641</td>\n",
       "      <td>4.698124</td>\n",
       "      <td>4.947366e+03</td>\n",
       "      <td>3.737773e+03</td>\n",
       "      <td>205.012004</td>\n",
       "      <td>...</td>\n",
       "      <td>4.906273e+04</td>\n",
       "      <td>2.100783e+04</td>\n",
       "      <td>7.492499e+04</td>\n",
       "      <td>3.588306e+04</td>\n",
       "      <td>2.390951e+06</td>\n",
       "      <td>2.400567e+05</td>\n",
       "      <td>2.626637e+06</td>\n",
       "      <td>2.180583e+06</td>\n",
       "      <td>0.0</td>\n",
       "      <td>0.566331</td>\n",
       "    </tr>\n",
       "    <tr>\n",
       "      <th>std</th>\n",
       "      <td>153370.296978</td>\n",
       "      <td>24735.070389</td>\n",
       "      <td>23169.488300</td>\n",
       "      <td>5.455740</td>\n",
       "      <td>2.345377e+07</td>\n",
       "      <td>318.51021</td>\n",
       "      <td>49.366888</td>\n",
       "      <td>5.277377e+04</td>\n",
       "      <td>1.011248e+05</td>\n",
       "      <td>419.745732</td>\n",
       "      <td>...</td>\n",
       "      <td>4.424027e+05</td>\n",
       "      <td>2.177489e+05</td>\n",
       "      <td>6.061227e+05</td>\n",
       "      <td>4.031814e+05</td>\n",
       "      <td>9.823704e+06</td>\n",
       "      <td>1.902224e+06</td>\n",
       "      <td>1.048392e+07</td>\n",
       "      <td>9.474628e+06</td>\n",
       "      <td>0.0</td>\n",
       "      <td>0.495583</td>\n",
       "    </tr>\n",
       "    <tr>\n",
       "      <th>min</th>\n",
       "      <td>0.000000</td>\n",
       "      <td>0.000000</td>\n",
       "      <td>0.000000</td>\n",
       "      <td>0.000000</td>\n",
       "      <td>0.000000e+00</td>\n",
       "      <td>1.00000</td>\n",
       "      <td>0.000000</td>\n",
       "      <td>0.000000e+00</td>\n",
       "      <td>0.000000e+00</td>\n",
       "      <td>0.000000</td>\n",
       "      <td>...</td>\n",
       "      <td>0.000000e+00</td>\n",
       "      <td>0.000000e+00</td>\n",
       "      <td>0.000000e+00</td>\n",
       "      <td>0.000000e+00</td>\n",
       "      <td>0.000000e+00</td>\n",
       "      <td>0.000000e+00</td>\n",
       "      <td>0.000000e+00</td>\n",
       "      <td>0.000000e+00</td>\n",
       "      <td>0.0</td>\n",
       "      <td>0.000000</td>\n",
       "    </tr>\n",
       "    <tr>\n",
       "      <th>25%</th>\n",
       "      <td>3287.000000</td>\n",
       "      <td>897.000000</td>\n",
       "      <td>80.000000</td>\n",
       "      <td>6.000000</td>\n",
       "      <td>2.000000e+00</td>\n",
       "      <td>2.00000</td>\n",
       "      <td>0.000000</td>\n",
       "      <td>1.200000e+01</td>\n",
       "      <td>0.000000e+00</td>\n",
       "      <td>6.000000</td>\n",
       "      <td>...</td>\n",
       "      <td>0.000000e+00</td>\n",
       "      <td>0.000000e+00</td>\n",
       "      <td>0.000000e+00</td>\n",
       "      <td>0.000000e+00</td>\n",
       "      <td>0.000000e+00</td>\n",
       "      <td>0.000000e+00</td>\n",
       "      <td>0.000000e+00</td>\n",
       "      <td>0.000000e+00</td>\n",
       "      <td>0.0</td>\n",
       "      <td>0.000000</td>\n",
       "    </tr>\n",
       "    <tr>\n",
       "      <th>50%</th>\n",
       "      <td>12789.000000</td>\n",
       "      <td>46955.500000</td>\n",
       "      <td>8161.500000</td>\n",
       "      <td>6.000000</td>\n",
       "      <td>7.480000e+02</td>\n",
       "      <td>2.00000</td>\n",
       "      <td>1.000000</td>\n",
       "      <td>6.000000e+01</td>\n",
       "      <td>0.000000e+00</td>\n",
       "      <td>31.000000</td>\n",
       "      <td>...</td>\n",
       "      <td>0.000000e+00</td>\n",
       "      <td>0.000000e+00</td>\n",
       "      <td>0.000000e+00</td>\n",
       "      <td>0.000000e+00</td>\n",
       "      <td>0.000000e+00</td>\n",
       "      <td>0.000000e+00</td>\n",
       "      <td>0.000000e+00</td>\n",
       "      <td>0.000000e+00</td>\n",
       "      <td>0.0</td>\n",
       "      <td>1.000000</td>\n",
       "    </tr>\n",
       "    <tr>\n",
       "      <th>75%</th>\n",
       "      <td>124754.750000</td>\n",
       "      <td>57514.000000</td>\n",
       "      <td>42979.000000</td>\n",
       "      <td>17.000000</td>\n",
       "      <td>4.579800e+04</td>\n",
       "      <td>4.00000</td>\n",
       "      <td>2.000000</td>\n",
       "      <td>8.020000e+02</td>\n",
       "      <td>9.200000e+01</td>\n",
       "      <td>383.000000</td>\n",
       "      <td>...</td>\n",
       "      <td>0.000000e+00</td>\n",
       "      <td>0.000000e+00</td>\n",
       "      <td>0.000000e+00</td>\n",
       "      <td>0.000000e+00</td>\n",
       "      <td>0.000000e+00</td>\n",
       "      <td>0.000000e+00</td>\n",
       "      <td>0.000000e+00</td>\n",
       "      <td>0.000000e+00</td>\n",
       "      <td>0.0</td>\n",
       "      <td>1.000000</td>\n",
       "    </tr>\n",
       "    <tr>\n",
       "      <th>max</th>\n",
       "      <td>802795.000000</td>\n",
       "      <td>65534.000000</td>\n",
       "      <td>65533.000000</td>\n",
       "      <td>17.000000</td>\n",
       "      <td>1.200000e+08</td>\n",
       "      <td>85894.00000</td>\n",
       "      <td>8029.000000</td>\n",
       "      <td>1.526642e+07</td>\n",
       "      <td>1.289243e+07</td>\n",
       "      <td>32120.000000</td>\n",
       "      <td>...</td>\n",
       "      <td>4.050800e+07</td>\n",
       "      <td>2.853681e+07</td>\n",
       "      <td>6.783473e+07</td>\n",
       "      <td>4.050800e+07</td>\n",
       "      <td>1.192194e+08</td>\n",
       "      <td>6.961402e+07</td>\n",
       "      <td>1.192194e+08</td>\n",
       "      <td>1.192194e+08</td>\n",
       "      <td>0.0</td>\n",
       "      <td>1.000000</td>\n",
       "    </tr>\n",
       "  </tbody>\n",
       "</table>\n",
       "<p>8 rows × 83 columns</p>\n",
       "</div>"
      ],
      "text/plain": [
       "          Unnamed: 0    Source Port  Destination Port       Protocol  \\\n",
       "count  137116.000000  137116.000000     137116.000000  137116.000000   \n",
       "mean    95761.369774   35858.029639      20548.012953      10.098048   \n",
       "std    153370.296978   24735.070389      23169.488300       5.455740   \n",
       "min         0.000000       0.000000          0.000000       0.000000   \n",
       "25%      3287.000000     897.000000         80.000000       6.000000   \n",
       "50%     12789.000000   46955.500000       8161.500000       6.000000   \n",
       "75%    124754.750000   57514.000000      42979.000000      17.000000   \n",
       "max    802795.000000   65534.000000      65533.000000      17.000000   \n",
       "\n",
       "       Flow Duration  Total Fwd Packets  Total Backward Packets  \\\n",
       "count   1.371160e+05       137116.00000           137116.000000   \n",
       "mean    6.575324e+06           16.32641                4.698124   \n",
       "std     2.345377e+07          318.51021               49.366888   \n",
       "min     0.000000e+00            1.00000                0.000000   \n",
       "25%     2.000000e+00            2.00000                0.000000   \n",
       "50%     7.480000e+02            2.00000                1.000000   \n",
       "75%     4.579800e+04            4.00000                2.000000   \n",
       "max     1.200000e+08        85894.00000             8029.000000   \n",
       "\n",
       "       Total Length of Fwd Packets  Total Length of Bwd Packets  \\\n",
       "count                 1.371160e+05                 1.371160e+05   \n",
       "mean                  4.947366e+03                 3.737773e+03   \n",
       "std                   5.277377e+04                 1.011248e+05   \n",
       "min                   0.000000e+00                 0.000000e+00   \n",
       "25%                   1.200000e+01                 0.000000e+00   \n",
       "50%                   6.000000e+01                 0.000000e+00   \n",
       "75%                   8.020000e+02                 9.200000e+01   \n",
       "max                   1.526642e+07                 1.289243e+07   \n",
       "\n",
       "       Fwd Packet Length Max  ...   Active Mean    Active Std    Active Max  \\\n",
       "count          137116.000000  ...  1.371160e+05  1.371160e+05  1.371160e+05   \n",
       "mean              205.012004  ...  4.906273e+04  2.100783e+04  7.492499e+04   \n",
       "std               419.745732  ...  4.424027e+05  2.177489e+05  6.061227e+05   \n",
       "min                 0.000000  ...  0.000000e+00  0.000000e+00  0.000000e+00   \n",
       "25%                 6.000000  ...  0.000000e+00  0.000000e+00  0.000000e+00   \n",
       "50%                31.000000  ...  0.000000e+00  0.000000e+00  0.000000e+00   \n",
       "75%               383.000000  ...  0.000000e+00  0.000000e+00  0.000000e+00   \n",
       "max             32120.000000  ...  4.050800e+07  2.853681e+07  6.783473e+07   \n",
       "\n",
       "         Active Min     Idle Mean      Idle Std      Idle Max      Idle Min  \\\n",
       "count  1.371160e+05  1.371160e+05  1.371160e+05  1.371160e+05  1.371160e+05   \n",
       "mean   3.588306e+04  2.390951e+06  2.400567e+05  2.626637e+06  2.180583e+06   \n",
       "std    4.031814e+05  9.823704e+06  1.902224e+06  1.048392e+07  9.474628e+06   \n",
       "min    0.000000e+00  0.000000e+00  0.000000e+00  0.000000e+00  0.000000e+00   \n",
       "25%    0.000000e+00  0.000000e+00  0.000000e+00  0.000000e+00  0.000000e+00   \n",
       "50%    0.000000e+00  0.000000e+00  0.000000e+00  0.000000e+00  0.000000e+00   \n",
       "75%    0.000000e+00  0.000000e+00  0.000000e+00  0.000000e+00  0.000000e+00   \n",
       "max    4.050800e+07  1.192194e+08  6.961402e+07  1.192194e+08  1.192194e+08   \n",
       "\n",
       "       SimillarHTTP        Inbound  \n",
       "count      135134.0  137116.000000  \n",
       "mean            0.0       0.566331  \n",
       "std             0.0       0.495583  \n",
       "min             0.0       0.000000  \n",
       "25%             0.0       0.000000  \n",
       "50%             0.0       1.000000  \n",
       "75%             0.0       1.000000  \n",
       "max             0.0       1.000000  \n",
       "\n",
       "[8 rows x 83 columns]"
      ]
     },
     "execution_count": 6,
     "metadata": {},
     "output_type": "execute_result"
    }
   ],
   "source": [
    "df.describe()"
   ]
  },
  {
   "cell_type": "code",
   "execution_count": 7,
   "id": "3d5c081b",
   "metadata": {
    "colab": {
     "base_uri": "https://localhost:8080/"
    },
    "id": "3d5c081b",
    "outputId": "523c2770-6673-487b-88bc-f565dd11faf8"
   },
   "outputs": [
    {
     "name": "stdout",
     "output_type": "stream",
     "text": [
      "Tổng số hàng trong dataset là: 137139\n"
     ]
    }
   ],
   "source": [
    "total_rows = len(df)\n",
    "print(\"Tổng số hàng trong dataset là:\", total_rows)"
   ]
  },
  {
   "cell_type": "code",
   "execution_count": 8,
   "id": "f2c7d05d",
   "metadata": {
    "colab": {
     "base_uri": "https://localhost:8080/"
    },
    "id": "f2c7d05d",
    "outputId": "3a6072b4-d8c8-49f5-f694-dd54724cf6b6"
   },
   "outputs": [
    {
     "name": "stdout",
     "output_type": "stream",
     "text": [
      "Total columns:  88\n"
     ]
    },
    {
     "data": {
      "text/plain": [
       "Index(['Unnamed: 0', 'Flow ID', 'Source IP', 'Source Port', 'Destination IP',\n",
       "       'Destination Port', 'Protocol', 'Timestamp', 'Flow Duration',\n",
       "       'Total Fwd Packets', 'Total Backward Packets',\n",
       "       'Total Length of Fwd Packets', 'Total Length of Bwd Packets',\n",
       "       'Fwd Packet Length Max', 'Fwd Packet Length Min',\n",
       "       'Fwd Packet Length Mean', 'Fwd Packet Length Std',\n",
       "       'Bwd Packet Length Max', 'Bwd Packet Length Min',\n",
       "       'Bwd Packet Length Mean', 'Bwd Packet Length Std', 'Flow Bytes/s',\n",
       "       'Flow Packets/s', 'Flow IAT Mean', 'Flow IAT Std', 'Flow IAT Max',\n",
       "       'Flow IAT Min', 'Fwd IAT Total', 'Fwd IAT Mean', 'Fwd IAT Std',\n",
       "       'Fwd IAT Max', 'Fwd IAT Min', 'Bwd IAT Total', 'Bwd IAT Mean',\n",
       "       'Bwd IAT Std', 'Bwd IAT Max', 'Bwd IAT Min', 'Fwd PSH Flags',\n",
       "       'Bwd PSH Flags', 'Fwd URG Flags', 'Bwd URG Flags', 'Fwd Header Length',\n",
       "       'Bwd Header Length', 'Fwd Packets/s', 'Bwd Packets/s',\n",
       "       'Min Packet Length', 'Max Packet Length', 'Packet Length Mean',\n",
       "       'Packet Length Std', 'Packet Length Variance', 'FIN Flag Count',\n",
       "       'SYN Flag Count', 'RST Flag Count', 'PSH Flag Count', 'ACK Flag Count',\n",
       "       'URG Flag Count', 'CWE Flag Count', 'ECE Flag Count', 'Down/Up Ratio',\n",
       "       'Average Packet Size', 'Avg Fwd Segment Size', 'Avg Bwd Segment Size',\n",
       "       'Fwd Header Length.1', 'Fwd Avg Bytes/Bulk', 'Fwd Avg Packets/Bulk',\n",
       "       'Fwd Avg Bulk Rate', 'Bwd Avg Bytes/Bulk', 'Bwd Avg Packets/Bulk',\n",
       "       'Bwd Avg Bulk Rate', 'Subflow Fwd Packets', 'Subflow Fwd Bytes',\n",
       "       'Subflow Bwd Packets', 'Subflow Bwd Bytes', 'Init_Win_bytes_forward',\n",
       "       'Init_Win_bytes_backward', 'act_data_pkt_fwd', 'min_seg_size_forward',\n",
       "       'Active Mean', 'Active Std', 'Active Max', 'Active Min', 'Idle Mean',\n",
       "       'Idle Std', 'Idle Max', 'Idle Min', 'SimillarHTTP', 'Inbound', 'Label'],\n",
       "      dtype='object')"
      ]
     },
     "execution_count": 8,
     "metadata": {},
     "output_type": "execute_result"
    }
   ],
   "source": [
    "print(\"Total columns: \", len(df.columns))\n",
    "df.columns"
   ]
  },
  {
   "cell_type": "code",
   "execution_count": 9,
   "id": "529da742",
   "metadata": {
    "colab": {
     "base_uri": "https://localhost:8080/"
    },
    "id": "529da742",
    "outputId": "af682cf2-1e70-468a-afc4-a966565b7467"
   },
   "outputs": [
    {
     "name": "stdout",
     "output_type": "stream",
     "text": [
      "<class 'pandas.core.frame.DataFrame'>\n",
      "RangeIndex: 137139 entries, 0 to 137138\n",
      "Data columns (total 88 columns):\n",
      " #   Column                       Non-Null Count   Dtype  \n",
      "---  ------                       --------------   -----  \n",
      " 0   Unnamed: 0                   137116 non-null  float64\n",
      " 1   Flow ID                      137139 non-null  object \n",
      " 2   Source IP                    137139 non-null  object \n",
      " 3   Source Port                  137116 non-null  float64\n",
      " 4   Destination IP               137139 non-null  object \n",
      " 5   Destination Port             137116 non-null  float64\n",
      " 6   Protocol                     137116 non-null  float64\n",
      " 7   Timestamp                    137139 non-null  object \n",
      " 8   Flow Duration                137116 non-null  float64\n",
      " 9   Total Fwd Packets            137116 non-null  float64\n",
      " 10  Total Backward Packets       137116 non-null  float64\n",
      " 11  Total Length of Fwd Packets  137116 non-null  float64\n",
      " 12  Total Length of Bwd Packets  137116 non-null  float64\n",
      " 13  Fwd Packet Length Max        137116 non-null  float64\n",
      " 14  Fwd Packet Length Min        137116 non-null  float64\n",
      " 15  Fwd Packet Length Mean       137116 non-null  float64\n",
      " 16  Fwd Packet Length Std        137116 non-null  float64\n",
      " 17  Bwd Packet Length Max        137116 non-null  float64\n",
      " 18  Bwd Packet Length Min        137116 non-null  float64\n",
      " 19  Bwd Packet Length Mean       137116 non-null  float64\n",
      " 20  Bwd Packet Length Std        137116 non-null  float64\n",
      " 21  Flow Bytes/s                 136213 non-null  float64\n",
      " 22  Flow Packets/s               137116 non-null  float64\n",
      " 23  Flow IAT Mean                137116 non-null  float64\n",
      " 24  Flow IAT Std                 137116 non-null  float64\n",
      " 25  Flow IAT Max                 137116 non-null  float64\n",
      " 26  Flow IAT Min                 137116 non-null  float64\n",
      " 27  Fwd IAT Total                137116 non-null  float64\n",
      " 28  Fwd IAT Mean                 137116 non-null  float64\n",
      " 29  Fwd IAT Std                  137116 non-null  float64\n",
      " 30  Fwd IAT Max                  137116 non-null  float64\n",
      " 31  Fwd IAT Min                  137116 non-null  float64\n",
      " 32  Bwd IAT Total                137116 non-null  float64\n",
      " 33  Bwd IAT Mean                 137116 non-null  float64\n",
      " 34  Bwd IAT Std                  137116 non-null  float64\n",
      " 35  Bwd IAT Max                  137116 non-null  float64\n",
      " 36  Bwd IAT Min                  137116 non-null  float64\n",
      " 37  Fwd PSH Flags                137116 non-null  float64\n",
      " 38  Bwd PSH Flags                137116 non-null  float64\n",
      " 39  Fwd URG Flags                137116 non-null  float64\n",
      " 40  Bwd URG Flags                137116 non-null  float64\n",
      " 41  Fwd Header Length            137116 non-null  float64\n",
      " 42  Bwd Header Length            137116 non-null  float64\n",
      " 43  Fwd Packets/s                137116 non-null  float64\n",
      " 44  Bwd Packets/s                137116 non-null  float64\n",
      " 45  Min Packet Length            137116 non-null  float64\n",
      " 46  Max Packet Length            137116 non-null  float64\n",
      " 47  Packet Length Mean           137116 non-null  float64\n",
      " 48  Packet Length Std            137116 non-null  float64\n",
      " 49  Packet Length Variance       137116 non-null  float64\n",
      " 50  FIN Flag Count               137116 non-null  float64\n",
      " 51  SYN Flag Count               137116 non-null  float64\n",
      " 52  RST Flag Count               137116 non-null  float64\n",
      " 53  PSH Flag Count               137116 non-null  float64\n",
      " 54  ACK Flag Count               137116 non-null  float64\n",
      " 55  URG Flag Count               137116 non-null  float64\n",
      " 56  CWE Flag Count               137116 non-null  float64\n",
      " 57  ECE Flag Count               137116 non-null  float64\n",
      " 58  Down/Up Ratio                137116 non-null  float64\n",
      " 59  Average Packet Size          137116 non-null  float64\n",
      " 60  Avg Fwd Segment Size         137116 non-null  float64\n",
      " 61  Avg Bwd Segment Size         137116 non-null  float64\n",
      " 62  Fwd Header Length.1          137116 non-null  float64\n",
      " 63  Fwd Avg Bytes/Bulk           137116 non-null  float64\n",
      " 64  Fwd Avg Packets/Bulk         137116 non-null  float64\n",
      " 65  Fwd Avg Bulk Rate            137116 non-null  float64\n",
      " 66  Bwd Avg Bytes/Bulk           137116 non-null  float64\n",
      " 67  Bwd Avg Packets/Bulk         137116 non-null  float64\n",
      " 68  Bwd Avg Bulk Rate            137116 non-null  float64\n",
      " 69  Subflow Fwd Packets          137116 non-null  float64\n",
      " 70  Subflow Fwd Bytes            137116 non-null  float64\n",
      " 71  Subflow Bwd Packets          137116 non-null  float64\n",
      " 72  Subflow Bwd Bytes            137116 non-null  float64\n",
      " 73  Init_Win_bytes_forward       137116 non-null  float64\n",
      " 74  Init_Win_bytes_backward      137116 non-null  float64\n",
      " 75  act_data_pkt_fwd             137116 non-null  float64\n",
      " 76  min_seg_size_forward         137116 non-null  float64\n",
      " 77  Active Mean                  137116 non-null  float64\n",
      " 78  Active Std                   137116 non-null  float64\n",
      " 79  Active Max                   137116 non-null  float64\n",
      " 80  Active Min                   137116 non-null  float64\n",
      " 81  Idle Mean                    137116 non-null  float64\n",
      " 82  Idle Std                     137116 non-null  float64\n",
      " 83  Idle Max                     137116 non-null  float64\n",
      " 84  Idle Min                     137116 non-null  float64\n",
      " 85  SimillarHTTP                 135134 non-null  float64\n",
      " 86  Inbound                      137116 non-null  float64\n",
      " 87  Label                        137139 non-null  object \n",
      "dtypes: float64(83), object(5)\n",
      "memory usage: 92.1+ MB\n"
     ]
    }
   ],
   "source": [
    "df.info()"
   ]
  },
  {
   "cell_type": "markdown",
   "id": "kDKKVLRETA12",
   "metadata": {
    "id": "kDKKVLRETA12"
   },
   "source": [
    "# FEATURE SELECTION"
   ]
  },
  {
   "cell_type": "code",
   "execution_count": 10,
   "id": "e7b0bcca",
   "metadata": {
    "colab": {
     "base_uri": "https://localhost:8080/"
    },
    "id": "e7b0bcca",
    "outputId": "4e8e2a2d-60d4-463e-96e1-4b19334ea67d"
   },
   "outputs": [
    {
     "name": "stdout",
     "output_type": "stream",
     "text": [
      "Index(['Bwd Packet Length Std', 'Bwd IAT Std', 'Fwd PSH Flags',\n",
      "       'Bwd PSH Flags', 'Fwd URG Flags', 'Bwd URG Flags', 'FIN Flag Count',\n",
      "       'SYN Flag Count', 'RST Flag Count', 'PSH Flag Count', 'CWE Flag Count',\n",
      "       'ECE Flag Count', 'Fwd Avg Bytes/Bulk', 'Fwd Avg Packets/Bulk',\n",
      "       'Fwd Avg Bulk Rate', 'Bwd Avg Bytes/Bulk', 'Bwd Avg Packets/Bulk',\n",
      "       'Bwd Avg Bulk Rate', 'Active Mean', 'Active Std', 'Active Max',\n",
      "       'Active Min', 'Idle Mean', 'Idle Std', 'Idle Max', 'Idle Min',\n",
      "       'SimillarHTTP'],\n",
      "      dtype='object')\n"
     ]
    }
   ],
   "source": [
    "#Đếm số value = 0 trong mỗi cột\n",
    "zeroCounts = (df == 0).sum()\n",
    "#Đếm số dòng mỗi cột\n",
    "totalCounts = df.count()\n",
    "# Điều kiện: tổng value ==0 >= 80% tổng số dòng\n",
    "condition = zeroCounts / totalCounts >= 0.8\n",
    "#Láy ra các cột đủ điều kiện\n",
    "conditionColumns = zeroCounts[condition].index\n",
    "print(conditionColumns)"
   ]
  },
  {
   "cell_type": "code",
   "execution_count": 11,
   "id": "6df1e005",
   "metadata": {
    "id": "6df1e005"
   },
   "outputs": [],
   "source": [
    "#Xóa bỏ các cột có tỉ lệ value = 0 lớn hơn 80% số dòng và các cột khác không cần thiết để giảm lượng tính toán\n",
    "df=df.drop('Bwd PSH Flags',axis=1)\n",
    "df=df.drop('Fwd URG Flags',axis=1)\n",
    "df=df.drop('Bwd URG Flags',axis=1)\n",
    "df=df.drop('FIN Flag Count',axis=1)\n",
    "df=df.drop('PSH Flag Count',axis=1)\n",
    "df=df.drop('ECE Flag Count',axis=1)\n",
    "df=df.drop('Fwd Avg Bytes/Bulk',axis=1)\n",
    "df=df.drop('Fwd Avg Packets/Bulk',axis=1)\n",
    "df=df.drop('Fwd Avg Bulk Rate',axis=1)\n",
    "df=df.drop('Bwd Avg Bytes/Bulk',axis=1)\n",
    "df=df.drop('Bwd Avg Packets/Bulk',axis=1)\n",
    "df=df.drop('Bwd Avg Bulk Rate',axis=1)\n",
    "df=df.drop('Unnamed: 0',axis=1)\n",
    "df=df.drop('SimillarHTTP', axis=1)\n",
    "df=df.drop('Flow ID', axis=1)\n",
    "df=df.drop('Timestamp', axis=1)\n",
    "df=df.drop('Source IP',axis=1)\n",
    "df=df.drop('Flow Duration',axis=1)\n",
    "df=df.drop('Total Fwd Packets',axis=1)\n",
    "df=df.drop('Total Backward Packets',axis=1)\n",
    "df=df.drop('Total Length of Bwd Packets',axis=1)\n",
    "df=df.drop('Fwd Packet Length Std',axis=1)\n",
    "df=df.drop('Flow IAT Max',axis=1)\n",
    "df=df.drop('Flow IAT Min',axis=1)\n",
    "df=df.drop('Fwd IAT Total',axis=1)\n",
    "df=df.drop('Fwd IAT Max',axis=1)\n",
    "df=df.drop('Fwd IAT Min',axis=1)\n",
    "df=df.drop('Bwd IAT Total',axis=1)\n",
    "df=df.drop('Bwd IAT Mean',axis=1)\n",
    "df=df.drop('Bwd IAT Std',axis=1)\n",
    "df=df.drop('Bwd IAT Max',axis=1)\n",
    "df=df.drop('Bwd IAT Min',axis=1)\n",
    "df=df.drop('Fwd Header Length',axis=1)\n",
    "df=df.drop('Bwd Header Length',axis=1)\n",
    "df=df.drop('Bwd Packets/s',axis=1)\n",
    "df=df.drop('SYN Flag Count',axis=1)\n",
    "df=df.drop('Down/Up Ratio',axis=1)\n",
    "df=df.drop('Fwd Header Length.1',axis=1)\n",
    "df=df.drop('Subflow Fwd Packets',axis=1)\n",
    "df=df.drop('Subflow Bwd Packets',axis=1)\n",
    "df=df.drop('Subflow Bwd Bytes',axis=1)\n",
    "df=df.drop('act_data_pkt_fwd',axis=1)\n",
    "df=df.drop('min_seg_size_forward',axis=1)\n",
    "df=df.drop('Active Mean',axis=1)\n",
    "df=df.drop('Active Std',axis=1)\n",
    "df=df.drop('Active Max',axis=1)\n",
    "df=df.drop('Active Min',axis=1)\n",
    "df=df.drop('Idle Mean',axis=1)\n",
    "df=df.drop('Idle Max',axis=1)\n",
    "df=df.drop('Idle Min',axis=1)\n",
    "df=df.drop('Packet Length Std',axis=1)\n",
    "df=df.drop('Inbound',axis=1)"
   ]
  },
  {
   "cell_type": "markdown",
   "id": "0990a057",
   "metadata": {},
   "source": [
    "# DATA PREPROCESSING"
   ]
  },
  {
   "cell_type": "markdown",
   "id": "bC9b6EQZTlYD",
   "metadata": {
    "id": "bC9b6EQZTlYD"
   },
   "source": [
    "## CHECK NULL & NaN VALUES"
   ]
  },
  {
   "cell_type": "code",
   "execution_count": 12,
   "id": "a7a9aebf",
   "metadata": {
    "colab": {
     "base_uri": "https://localhost:8080/"
    },
    "id": "a7a9aebf",
    "outputId": "25a80b02-d83c-408c-d69d-ee2ce5e019e7"
   },
   "outputs": [
    {
     "data": {
      "text/plain": [
       "Source Port                     23\n",
       "Destination IP                   0\n",
       "Destination Port                23\n",
       "Protocol                        23\n",
       "Total Length of Fwd Packets     23\n",
       "Fwd Packet Length Max           23\n",
       "Fwd Packet Length Min           23\n",
       "Fwd Packet Length Mean          23\n",
       "Bwd Packet Length Max           23\n",
       "Bwd Packet Length Min           23\n",
       "Bwd Packet Length Mean          23\n",
       "Bwd Packet Length Std           23\n",
       "Flow Bytes/s                   926\n",
       "Flow Packets/s                  23\n",
       "Flow IAT Mean                   23\n",
       "Flow IAT Std                    23\n",
       "Fwd IAT Mean                    23\n",
       "Fwd IAT Std                     23\n",
       "Fwd PSH Flags                   23\n",
       "Fwd Packets/s                   23\n",
       "Min Packet Length               23\n",
       "Max Packet Length               23\n",
       "Packet Length Mean              23\n",
       "Packet Length Variance          23\n",
       "RST Flag Count                  23\n",
       "ACK Flag Count                  23\n",
       "URG Flag Count                  23\n",
       "CWE Flag Count                  23\n",
       "Average Packet Size             23\n",
       "Avg Fwd Segment Size            23\n",
       "Avg Bwd Segment Size            23\n",
       "Subflow Fwd Bytes               23\n",
       "Init_Win_bytes_forward          23\n",
       "Init_Win_bytes_backward         23\n",
       "Idle Std                        23\n",
       "Label                            0\n",
       "dtype: int64"
      ]
     },
     "execution_count": 12,
     "metadata": {},
     "output_type": "execute_result"
    }
   ],
   "source": [
    "#Đếm giá trị null trong cột\n",
    "df.isnull().sum()"
   ]
  },
  {
   "cell_type": "code",
   "execution_count": 13,
   "id": "aa896680",
   "metadata": {
    "colab": {
     "base_uri": "https://localhost:8080/",
     "height": 407
    },
    "id": "aa896680",
    "outputId": "85eecc9c-8164-4fb7-b769-94a21c0b2674"
   },
   "outputs": [
    {
     "data": {
      "image/png": "[encoded data removed]",
      "text/plain": [
       "<Figure size 600x400 with 1 Axes>"
      ]
     },
     "metadata": {},
     "output_type": "display_data"
    }
   ],
   "source": [
    "nullCounts = df.isnull().sum()\n",
    "\n",
    "plt.figure(figsize=(6, 4))\n",
    "plt.bar(nullCounts.index, nullCounts.values,color = 'lightpink')\n",
    "\n",
    "plt.xlabel('Columns')\n",
    "plt.ylabel('Number of Null Values')\n",
    "plt.title('Null Value Distribution')\n",
    "\n",
    "plt.xticks(rotation=45, ha='right')\n",
    "\n",
    "plt.tight_layout()\n",
    "plt.show()"
   ]
  },
  {
   "cell_type": "code",
   "execution_count": 14,
   "id": "8f15a35c",
   "metadata": {
    "id": "8f15a35c"
   },
   "outputs": [],
   "source": [
    "df.dropna(inplace=True)"
   ]
  },
  {
   "cell_type": "code",
   "execution_count": 15,
   "id": "46ce6e5f",
   "metadata": {
    "colab": {
     "base_uri": "https://localhost:8080/"
    },
    "id": "46ce6e5f",
    "outputId": "40f6aa7b-0d65-4ff7-f338-d568222eb725"
   },
   "outputs": [
    {
     "data": {
      "text/plain": [
       "Source Port                    0\n",
       "Destination IP                 0\n",
       "Destination Port               0\n",
       "Protocol                       0\n",
       "Total Length of Fwd Packets    0\n",
       "Fwd Packet Length Max          0\n",
       "Fwd Packet Length Min          0\n",
       "Fwd Packet Length Mean         0\n",
       "Bwd Packet Length Max          0\n",
       "Bwd Packet Length Min          0\n",
       "Bwd Packet Length Mean         0\n",
       "Bwd Packet Length Std          0\n",
       "Flow Bytes/s                   0\n",
       "Flow Packets/s                 0\n",
       "Flow IAT Mean                  0\n",
       "Flow IAT Std                   0\n",
       "Fwd IAT Mean                   0\n",
       "Fwd IAT Std                    0\n",
       "Fwd PSH Flags                  0\n",
       "Fwd Packets/s                  0\n",
       "Min Packet Length              0\n",
       "Max Packet Length              0\n",
       "Packet Length Mean             0\n",
       "Packet Length Variance         0\n",
       "RST Flag Count                 0\n",
       "ACK Flag Count                 0\n",
       "URG Flag Count                 0\n",
       "CWE Flag Count                 0\n",
       "Average Packet Size            0\n",
       "Avg Fwd Segment Size           0\n",
       "Avg Bwd Segment Size           0\n",
       "Subflow Fwd Bytes              0\n",
       "Init_Win_bytes_forward         0\n",
       "Init_Win_bytes_backward        0\n",
       "Idle Std                       0\n",
       "Label                          0\n",
       "dtype: int64"
      ]
     },
     "execution_count": 15,
     "metadata": {},
     "output_type": "execute_result"
    }
   ],
   "source": [
    "df.isnull().sum()"
   ]
  },
  {
   "cell_type": "code",
   "execution_count": 16,
   "id": "22652a19",
   "metadata": {
    "colab": {
     "base_uri": "https://localhost:8080/"
    },
    "id": "22652a19",
    "outputId": "102414c7-ee2c-43f0-9520-d9c8888b68e3"
   },
   "outputs": [
    {
     "data": {
      "text/plain": [
       "array(['BENIGN', 'TFTP', 'DrDoS_DNS', 'DrDoS_LDAP', 'DrDoS_MSSQL',\n",
       "       'DrDoS_NetBIOS', 'DrDoS_NTP', 'DrDoS_SNMP', 'DrDoS_SSDP',\n",
       "       'DrDoS_UDP', 'UDP-lag', 'WebDDoS', 'Syn'], dtype=object)"
      ]
     },
     "execution_count": 16,
     "metadata": {},
     "output_type": "execute_result"
    }
   ],
   "source": [
    "df.Label.unique()"
   ]
  },
  {
   "cell_type": "code",
   "execution_count": 17,
   "id": "449e7c5c",
   "metadata": {
    "colab": {
     "base_uri": "https://localhost:8080/"
    },
    "id": "449e7c5c",
    "outputId": "18c4a9f0-4483-470c-cec2-cfd001a1efb3"
   },
   "outputs": [
    {
     "name": "stdout",
     "output_type": "stream",
     "text": [
      "Label\n",
      "BENIGN           71688\n",
      "Syn              27418\n",
      "DrDoS_NTP        14500\n",
      "TFTP              5261\n",
      "UDP-lag           3800\n",
      "DrDoS_DNS         3400\n",
      "DrDoS_UDP         2160\n",
      "DrDoS_MSSQL       2000\n",
      "DrDoS_NetBIOS     1706\n",
      "DrDoS_LDAP        1600\n",
      "DrDoS_SNMP        1510\n",
      "DrDoS_SSDP         770\n",
      "WebDDoS            400\n",
      "Name: count, dtype: int64\n"
     ]
    }
   ],
   "source": [
    "valueCounts = df['Label'].value_counts()\n",
    "print(valueCounts)"
   ]
  },
  {
   "cell_type": "markdown",
   "id": "Jmcj5brXTV4g",
   "metadata": {
    "id": "Jmcj5brXTV4g"
   },
   "source": [
    "# DATA ANALYSIS"
   ]
  },
  {
   "cell_type": "code",
   "execution_count": 18,
   "id": "0VYA_uEEZVHQ",
   "metadata": {
    "colab": {
     "base_uri": "https://localhost:8080/",
     "height": 617
    },
    "id": "0VYA_uEEZVHQ",
    "outputId": "15224b74-4ac4-4405-b593-1540d1d50066"
   },
   "outputs": [
    {
     "data": {
      "image/png": "[encoded data removed]",
      "text/plain": [
       "<Figure size 1000x600 with 1 Axes>"
      ]
     },
     "metadata": {},
     "output_type": "display_data"
    }
   ],
   "source": [
    "labelCounts = df['Label'].value_counts()\n",
    "\n",
    "threshold = 0.03\n",
    "smallLabels = labelCounts[labelCounts / labelCounts.sum() < threshold].index\n",
    "df['Label'] = df['Label'].apply(lambda x: 'Others' if x in smallLabels else x)\n",
    "\n",
    "labelCounts = df['Label'].value_counts()\n",
    "\n",
    "benignCount = labelCounts['BENIGN']\n",
    "\n",
    "plt.figure(figsize=(10, 6))\n",
    "labelCounts.plot(kind='bar', color='skyblue')\n",
    "plt.bar('Benign', benignCount, color='green')\n",
    "plt.legend(['Others', 'Benign'])\n",
    "plt.title('Biểu đồ thể hiện số lượng BENIGN và các kiểu tấn công DDoS')\n",
    "plt.xlabel('Label')\n",
    "plt.ylabel('Quantity')\n",
    "plt.xticks(rotation=45)\n",
    "plt.show()"
   ]
  },
  {
   "cell_type": "code",
   "execution_count": 19,
   "id": "86068f7a",
   "metadata": {
    "colab": {
     "base_uri": "https://localhost:8080/",
     "height": 523
    },
    "id": "86068f7a",
    "outputId": "fb122b55-b81d-43bd-c4cc-012dc5deb811"
   },
   "outputs": [
    {
     "data": {
      "image/png": "[encoded data removed]",
      "text/plain": [
       "<Figure size 600x600 with 1 Axes>"
      ]
     },
     "metadata": {},
     "output_type": "display_data"
    }
   ],
   "source": [
    "labelCounts = df['Label'].value_counts()\n",
    "\n",
    "threshold = 0.03\n",
    "smallLabels = labelCounts[labelCounts/labelCounts.sum() < threshold].index\n",
    "df['Label'] = df['Label'].apply(lambda x: 'Others' if x in smallLabels else x)\n",
    "\n",
    "labelCounts = df['Label'].value_counts()\n",
    "\n",
    "labels = labelCounts.index.tolist()\n",
    "sizes = labelCounts.values.tolist()\n",
    "\n",
    "plt.figure(figsize=(6, 6))\n",
    "plt.pie(sizes, labels=labels, autopct='%1.1f%%', startangle=90)\n",
    "plt.title('Biểu đồ thể hiện các loại tấn công DDoS')\n",
    "plt.axis('equal')\n",
    "\n",
    "plt.legend(labels, loc=\"upper right\",bbox_to_anchor=(1.3, 1))\n",
    "plt.show()"
   ]
  },
  {
   "cell_type": "code",
   "execution_count": 20,
   "id": "JL9y1hCYU4_E",
   "metadata": {
    "colab": {
     "base_uri": "https://localhost:8080/",
     "height": 601
    },
    "id": "JL9y1hCYU4_E",
    "outputId": "6f4f4e80-aefe-4f7c-c9e4-6ea4b7786a3e"
   },
   "outputs": [
    {
     "data": {
      "image/png": "[encoded data removed]",
      "text/plain": [
       "<Figure size 700x700 with 1 Axes>"
      ]
     },
     "metadata": {},
     "output_type": "display_data"
    }
   ],
   "source": [
    "protocolCounts = df['Protocol'].value_counts()\n",
    "protocolPercentage = protocolCounts / protocolCounts.sum() * 100\n",
    "\n",
    "fig1, ax1 = plt.subplots(figsize=[7,7])\n",
    "ax1.pie(protocolPercentage, explode=(0.1, 0, 0), labels=protocolPercentage.index, autopct='%1.1f%%',\n",
    "        shadow=True, startangle=90)\n",
    "ax1.axis('equal')\n",
    "ax1.legend(protocolPercentage.index, loc=\"best\")\n",
    "plt.title('Biểu đồ thể hiện sự phân bổ của Protocol', fontsize=14)\n",
    "plt.show()"
   ]
  },
  {
   "cell_type": "code",
   "execution_count": 21,
   "id": "2OdxqW_MVDsk",
   "metadata": {
    "colab": {
     "base_uri": "https://localhost:8080/",
     "height": 1000
    },
    "id": "2OdxqW_MVDsk",
    "outputId": "684e449c-7468-4bba-92e0-798b50b417d7"
   },
   "outputs": [
    {
     "ename": "ValueError",
     "evalue": "could not convert string to float: '23.32.166.121'",
     "output_type": "error",
     "traceback": [
      "\u001b[1;31m---------------------------------------------------------------------------\u001b[0m",
      "\u001b[1;31mValueError\u001b[0m                                Traceback (most recent call last)",
      "Cell \u001b[1;32mIn[21], line 4\u001b[0m\n\u001b[0;32m      1\u001b[0m \u001b[38;5;66;03m#Để trực quan ma trận, cần phải thực hiện Label Encoding trước \u001b[39;00m\n\u001b[0;32m      2\u001b[0m \u001b[38;5;28;01mimport\u001b[39;00m \u001b[38;5;21;01mseaborn\u001b[39;00m \u001b[38;5;28;01mas\u001b[39;00m \u001b[38;5;21;01msns\u001b[39;00m\n\u001b[1;32m----> 4\u001b[0m correlationMatrix \u001b[38;5;241m=\u001b[39m df\u001b[38;5;241m.\u001b[39mcorr()\n\u001b[0;32m      6\u001b[0m plt\u001b[38;5;241m.\u001b[39mfigure(figsize\u001b[38;5;241m=\u001b[39m[\u001b[38;5;241m12\u001b[39m,\u001b[38;5;241m10\u001b[39m])\n\u001b[0;32m      7\u001b[0m sns\u001b[38;5;241m.\u001b[39mheatmap(correlationMatrix, annot\u001b[38;5;241m=\u001b[39m\u001b[38;5;28;01mFalse\u001b[39;00m, cmap\u001b[38;5;241m=\u001b[39m\u001b[38;5;124m'\u001b[39m\u001b[38;5;124mcoolwarm\u001b[39m\u001b[38;5;124m'\u001b[39m, linewidths\u001b[38;5;241m=\u001b[39m\u001b[38;5;241m0.5\u001b[39m)\n",
      "File \u001b[1;32m~\\anaconda3\\Lib\\site-packages\\pandas\\core\\frame.py:11049\u001b[0m, in \u001b[0;36mDataFrame.corr\u001b[1;34m(self, method, min_periods, numeric_only)\u001b[0m\n\u001b[0;32m  11047\u001b[0m cols \u001b[38;5;241m=\u001b[39m data\u001b[38;5;241m.\u001b[39mcolumns\n\u001b[0;32m  11048\u001b[0m idx \u001b[38;5;241m=\u001b[39m cols\u001b[38;5;241m.\u001b[39mcopy()\n\u001b[1;32m> 11049\u001b[0m mat \u001b[38;5;241m=\u001b[39m data\u001b[38;5;241m.\u001b[39mto_numpy(dtype\u001b[38;5;241m=\u001b[39m\u001b[38;5;28mfloat\u001b[39m, na_value\u001b[38;5;241m=\u001b[39mnp\u001b[38;5;241m.\u001b[39mnan, copy\u001b[38;5;241m=\u001b[39m\u001b[38;5;28;01mFalse\u001b[39;00m)\n\u001b[0;32m  11051\u001b[0m \u001b[38;5;28;01mif\u001b[39;00m method \u001b[38;5;241m==\u001b[39m \u001b[38;5;124m\"\u001b[39m\u001b[38;5;124mpearson\u001b[39m\u001b[38;5;124m\"\u001b[39m:\n\u001b[0;32m  11052\u001b[0m     correl \u001b[38;5;241m=\u001b[39m libalgos\u001b[38;5;241m.\u001b[39mnancorr(mat, minp\u001b[38;5;241m=\u001b[39mmin_periods)\n",
      "File \u001b[1;32m~\\anaconda3\\Lib\\site-packages\\pandas\\core\\frame.py:1993\u001b[0m, in \u001b[0;36mDataFrame.to_numpy\u001b[1;34m(self, dtype, copy, na_value)\u001b[0m\n\u001b[0;32m   1991\u001b[0m \u001b[38;5;28;01mif\u001b[39;00m dtype \u001b[38;5;129;01mis\u001b[39;00m \u001b[38;5;129;01mnot\u001b[39;00m \u001b[38;5;28;01mNone\u001b[39;00m:\n\u001b[0;32m   1992\u001b[0m     dtype \u001b[38;5;241m=\u001b[39m np\u001b[38;5;241m.\u001b[39mdtype(dtype)\n\u001b[1;32m-> 1993\u001b[0m result \u001b[38;5;241m=\u001b[39m \u001b[38;5;28mself\u001b[39m\u001b[38;5;241m.\u001b[39m_mgr\u001b[38;5;241m.\u001b[39mas_array(dtype\u001b[38;5;241m=\u001b[39mdtype, copy\u001b[38;5;241m=\u001b[39mcopy, na_value\u001b[38;5;241m=\u001b[39mna_value)\n\u001b[0;32m   1994\u001b[0m \u001b[38;5;28;01mif\u001b[39;00m result\u001b[38;5;241m.\u001b[39mdtype \u001b[38;5;129;01mis\u001b[39;00m \u001b[38;5;129;01mnot\u001b[39;00m dtype:\n\u001b[0;32m   1995\u001b[0m     result \u001b[38;5;241m=\u001b[39m np\u001b[38;5;241m.\u001b[39masarray(result, dtype\u001b[38;5;241m=\u001b[39mdtype)\n",
      "File \u001b[1;32m~\\anaconda3\\Lib\\site-packages\\pandas\\core\\internals\\managers.py:1694\u001b[0m, in \u001b[0;36mBlockManager.as_array\u001b[1;34m(self, dtype, copy, na_value)\u001b[0m\n\u001b[0;32m   1692\u001b[0m         arr\u001b[38;5;241m.\u001b[39mflags\u001b[38;5;241m.\u001b[39mwriteable \u001b[38;5;241m=\u001b[39m \u001b[38;5;28;01mFalse\u001b[39;00m\n\u001b[0;32m   1693\u001b[0m \u001b[38;5;28;01melse\u001b[39;00m:\n\u001b[1;32m-> 1694\u001b[0m     arr \u001b[38;5;241m=\u001b[39m \u001b[38;5;28mself\u001b[39m\u001b[38;5;241m.\u001b[39m_interleave(dtype\u001b[38;5;241m=\u001b[39mdtype, na_value\u001b[38;5;241m=\u001b[39mna_value)\n\u001b[0;32m   1695\u001b[0m     \u001b[38;5;66;03m# The underlying data was copied within _interleave, so no need\u001b[39;00m\n\u001b[0;32m   1696\u001b[0m     \u001b[38;5;66;03m# to further copy if copy=True or setting na_value\u001b[39;00m\n\u001b[0;32m   1698\u001b[0m \u001b[38;5;28;01mif\u001b[39;00m na_value \u001b[38;5;129;01mis\u001b[39;00m lib\u001b[38;5;241m.\u001b[39mno_default:\n",
      "File \u001b[1;32m~\\anaconda3\\Lib\\site-packages\\pandas\\core\\internals\\managers.py:1753\u001b[0m, in \u001b[0;36mBlockManager._interleave\u001b[1;34m(self, dtype, na_value)\u001b[0m\n\u001b[0;32m   1751\u001b[0m     \u001b[38;5;28;01melse\u001b[39;00m:\n\u001b[0;32m   1752\u001b[0m         arr \u001b[38;5;241m=\u001b[39m blk\u001b[38;5;241m.\u001b[39mget_values(dtype)\n\u001b[1;32m-> 1753\u001b[0m     result[rl\u001b[38;5;241m.\u001b[39mindexer] \u001b[38;5;241m=\u001b[39m arr\n\u001b[0;32m   1754\u001b[0m     itemmask[rl\u001b[38;5;241m.\u001b[39mindexer] \u001b[38;5;241m=\u001b[39m \u001b[38;5;241m1\u001b[39m\n\u001b[0;32m   1756\u001b[0m \u001b[38;5;28;01mif\u001b[39;00m \u001b[38;5;129;01mnot\u001b[39;00m itemmask\u001b[38;5;241m.\u001b[39mall():\n",
      "\u001b[1;31mValueError\u001b[0m: could not convert string to float: '23.32.166.121'"
     ]
    }
   ],
   "source": [
    "#Để trực quan ma trận, cần phải thực hiện Label Encoding trước \n",
    "import seaborn as sns\n",
    "\n",
    "correlationMatrix = df.corr()\n",
    "\n",
    "plt.figure(figsize=[12,10])\n",
    "sns.heatmap(correlationMatrix, annot=False, cmap='coolwarm', linewidths=0.5)\n",
    "plt.title('Ma trận tương quan của các feature')\n",
    "plt.show()"
   ]
  },
  {
   "cell_type": "markdown",
   "id": "6VCNNkDVT-e8",
   "metadata": {
    "id": "6VCNNkDVT-e8"
   },
   "source": [
    "# LABEL ENDCODING"
   ]
  },
  {
   "cell_type": "code",
   "execution_count": 22,
   "id": "7155444c",
   "metadata": {
    "id": "7155444c"
   },
   "outputs": [],
   "source": [
    "# BENIGN = 0 và DDoS = 1\n",
    "df['Label'] = np.where(df['Label'] == 'BENIGN', 0, 1)\n",
    "df['Label'] = df['Label'].astype('int')"
   ]
  },
  {
   "cell_type": "code",
   "execution_count": 23,
   "id": "9c9d32b0",
   "metadata": {
    "colab": {
     "base_uri": "https://localhost:8080/"
    },
    "id": "9c9d32b0",
    "outputId": "7039eb14-a1ce-49b4-a0c4-1fd442bcac56"
   },
   "outputs": [
    {
     "data": {
      "text/plain": [
       "array([0, 1])"
      ]
     },
     "execution_count": 23,
     "metadata": {},
     "output_type": "execute_result"
    }
   ],
   "source": [
    "df.Label.unique()"
   ]
  },
  {
   "cell_type": "code",
   "execution_count": 24,
   "id": "eaf85b07",
   "metadata": {
    "colab": {
     "base_uri": "https://localhost:8080/"
    },
    "id": "eaf85b07",
    "outputId": "aa814776-64c6-42ca-9d60-00bd79d006c3"
   },
   "outputs": [
    {
     "name": "stdout",
     "output_type": "stream",
     "text": [
      "The number of categorical features is 1 and they are : \n",
      " ['Destination IP']\n"
     ]
    }
   ],
   "source": [
    "categorical_features = [feature for feature in df.columns if df[feature].dtypes == 'O']\n",
    "print(\"The number of categorical features is\",len(categorical_features),\"and they are : \\n\",categorical_features)"
   ]
  },
  {
   "cell_type": "code",
   "execution_count": 25,
   "id": "c123a8fa",
   "metadata": {
    "colab": {
     "base_uri": "https://localhost:8080/"
    },
    "id": "c123a8fa",
    "outputId": "c4714908-06f2-48d4-c5eb-a204d7e0635a"
   },
   "outputs": [
    {
     "data": {
      "text/plain": [
       "(['Source Port',\n",
       "  'Destination Port',\n",
       "  'Protocol',\n",
       "  'Total Length of Fwd Packets',\n",
       "  'Fwd Packet Length Max',\n",
       "  'Fwd Packet Length Min',\n",
       "  'Fwd Packet Length Mean',\n",
       "  'Bwd Packet Length Max',\n",
       "  'Bwd Packet Length Min',\n",
       "  'Bwd Packet Length Mean',\n",
       "  'Bwd Packet Length Std',\n",
       "  'Flow Bytes/s',\n",
       "  'Flow Packets/s',\n",
       "  'Flow IAT Mean',\n",
       "  'Flow IAT Std',\n",
       "  'Fwd IAT Mean',\n",
       "  'Fwd IAT Std',\n",
       "  'Fwd PSH Flags',\n",
       "  'Fwd Packets/s',\n",
       "  'Min Packet Length',\n",
       "  'Max Packet Length',\n",
       "  'Packet Length Mean',\n",
       "  'Packet Length Variance',\n",
       "  'RST Flag Count',\n",
       "  'ACK Flag Count',\n",
       "  'URG Flag Count',\n",
       "  'CWE Flag Count',\n",
       "  'Average Packet Size',\n",
       "  'Avg Fwd Segment Size',\n",
       "  'Avg Bwd Segment Size',\n",
       "  'Subflow Fwd Bytes',\n",
       "  'Init_Win_bytes_forward',\n",
       "  'Init_Win_bytes_backward',\n",
       "  'Idle Std',\n",
       "  'Label'],\n",
       " 35)"
      ]
     },
     "execution_count": 25,
     "metadata": {},
     "output_type": "execute_result"
    }
   ],
   "source": [
    "num_features = [feature for feature in df.columns if df[feature].dtypes != 'O']\n",
    "num_features, len(num_features)"
   ]
  },
  {
   "cell_type": "code",
   "execution_count": 26,
   "id": "05b626af",
   "metadata": {
    "colab": {
     "base_uri": "https://localhost:8080/"
    },
    "id": "05b626af",
    "outputId": "8f1b7739-cddf-427b-f085-b451171b11fe"
   },
   "outputs": [
    {
     "data": {
      "text/plain": [
       "Source Port                    36712\n",
       "Destination Port               41379\n",
       "Protocol                           3\n",
       "Total Length of Fwd Packets     4430\n",
       "Fwd Packet Length Max           1996\n",
       "Fwd Packet Length Min            632\n",
       "Fwd Packet Length Mean          6870\n",
       "Bwd Packet Length Max            993\n",
       "Bwd Packet Length Min            201\n",
       "Bwd Packet Length Mean          5971\n",
       "Bwd Packet Length Std           6172\n",
       "Flow Bytes/s                   59983\n",
       "Flow Packets/s                 52994\n",
       "Flow IAT Mean                  52621\n",
       "Flow IAT Std                   59775\n",
       "Fwd IAT Mean                   37200\n",
       "Fwd IAT Std                    40196\n",
       "Fwd PSH Flags                      2\n",
       "Fwd Packets/s                  52715\n",
       "Min Packet Length                603\n",
       "Max Packet Length               1841\n",
       "Packet Length Mean              9065\n",
       "Packet Length Variance          8840\n",
       "RST Flag Count                     2\n",
       "ACK Flag Count                     2\n",
       "URG Flag Count                     2\n",
       "CWE Flag Count                     2\n",
       "Average Packet Size             9271\n",
       "Avg Fwd Segment Size            6663\n",
       "Avg Bwd Segment Size            5871\n",
       "Subflow Fwd Bytes               4430\n",
       "Init_Win_bytes_forward          1526\n",
       "Init_Win_bytes_backward         1381\n",
       "Idle Std                        8909\n",
       "Label                              2\n",
       "dtype: int64"
      ]
     },
     "execution_count": 26,
     "metadata": {},
     "output_type": "execute_result"
    }
   ],
   "source": [
    "df[num_features].nunique(axis=0)"
   ]
  },
  {
   "cell_type": "code",
   "execution_count": 27,
   "id": "6404ad53",
   "metadata": {
    "colab": {
     "base_uri": "https://localhost:8080/"
    },
    "id": "6404ad53",
    "outputId": "12139a7b-0bbe-40c6-f392-c8b1f4f0f774"
   },
   "outputs": [
    {
     "name": "stdout",
     "output_type": "stream",
     "text": [
      "The number of discrete features is 7 and they are : \n",
      " ['Protocol', 'Fwd PSH Flags', 'RST Flag Count', 'ACK Flag Count', 'URG Flag Count', 'CWE Flag Count', 'Label']\n"
     ]
    }
   ],
   "source": [
    "discrete_feature = [feature for feature in num_features if df[feature].nunique()<=15 and feature != 'label']\n",
    "print(\"The number of discrete features is\",len(discrete_feature),\"and they are : \\n\",discrete_feature)"
   ]
  },
  {
   "cell_type": "code",
   "execution_count": 28,
   "id": "f13e412f",
   "metadata": {
    "id": "f13e412f"
   },
   "outputs": [],
   "source": [
    "#Hàm này xử lí các dữ liệu dạng category hay object sang loại numeric\n",
    "from sklearn.preprocessing import LabelEncoder\n",
    "def labelEncoding(data):\n",
    "    columnsToEncode = list(data.select_dtypes(include=['category', 'object']))\n",
    "    le = LabelEncoder()\n",
    "    for feature in columnsToEncode:\n",
    "        try:\n",
    "            data[feature] = le.fit_transform(data[feature])\n",
    "        except:\n",
    "            print ('error' + feature)\n",
    "    return data"
   ]
  },
  {
   "cell_type": "code",
   "execution_count": 29,
   "id": "516afaf5",
   "metadata": {
    "id": "516afaf5"
   },
   "outputs": [],
   "source": [
    "df = labelEncoding(df)"
   ]
  },
  {
   "cell_type": "markdown",
   "id": "vd0fgco1UQKa",
   "metadata": {
    "id": "vd0fgco1UQKa"
   },
   "source": [
    "## OUTLIER HANDLING"
   ]
  },
  {
   "cell_type": "code",
   "execution_count": 30,
   "id": "d2913c0f",
   "metadata": {
    "colab": {
     "base_uri": "https://localhost:8080/"
    },
    "id": "d2913c0f",
    "outputId": "4b8ee154-c27c-46f8-fa69-02d94fb565fa"
   },
   "outputs": [
    {
     "name": "stdout",
     "output_type": "stream",
     "text": [
      "Có giá trị vô cùng trong cột 'Flow Bytes/s'\n",
      "Có giá trị vô cùng trong cột 'Flow Packets/s'\n"
     ]
    }
   ],
   "source": [
    "#Kiểm tra lại trong dataset có giá trị vô cùng không\n",
    "isInf = np.isinf(df)\n",
    "for column in isInf.columns:\n",
    "    if isInf[column].any():\n",
    "        print(f\"Có giá trị vô cùng trong cột '{column}'\")"
   ]
  },
  {
   "cell_type": "code",
   "execution_count": 31,
   "id": "faf066e6",
   "metadata": {
    "colab": {
     "base_uri": "https://localhost:8080/"
    },
    "id": "21247fda",
    "outputId": "a55a3df7-4b85-419a-c090-74c20d9fde07"
   },
   "outputs": [
    {
     "name": "stdout",
     "output_type": "stream",
     "text": [
      "Có giá trị quá lớn trong cột 'Flow Bytes/s'\n",
      "Có giá trị quá lớn trong cột 'Flow Packets/s'\n"
     ]
    }
   ],
   "source": [
    "#Kiểm tra lại trong dataset có giá trị quá lớn không\n",
    "isLarge = np.abs(df) > 1e9\n",
    "for column in isLarge.columns:\n",
    "    if isLarge[column].any():\n",
    "        print(f\"Có giá trị quá lớn trong cột '{column}'\")"
   ]
  },
  {
   "cell_type": "code",
   "execution_count": 32,
   "id": "058aa76c",
   "metadata": {
    "colab": {
     "base_uri": "https://localhost:8080/"
    },
    "id": "058aa76c",
    "outputId": "73f43578-8a7a-48f4-8511-5504f908569f"
   },
   "outputs": [],
   "source": [
    "#Loại bỏ các giá trị quá lớn và vô cùng bằng việc thay thế giá trị đó thành NaN rồi loại bỏ\n",
    "df[isInf] = np.nan\n",
    "df[isLarge] = np.nan\n",
    "nanColumns = df.columns[df.isna().any()].tolist()\n",
    "df = df.dropna(subset=nanColumns)"
   ]
  },
  {
   "cell_type": "code",
   "execution_count": 33,
   "id": "7d42f075",
   "metadata": {
    "colab": {
     "base_uri": "https://localhost:8080/"
    },
    "id": "7d42f075",
    "outputId": "3c53bdac-83af-40ac-da9a-2262bb7f0fbe"
   },
   "outputs": [
    {
     "name": "stdout",
     "output_type": "stream",
     "text": [
      "<class 'pandas.core.frame.DataFrame'>\n",
      "Index: 128649 entries, 0 to 137138\n",
      "Data columns (total 36 columns):\n",
      " #   Column                       Non-Null Count   Dtype  \n",
      "---  ------                       --------------   -----  \n",
      " 0   Source Port                  128649 non-null  float64\n",
      " 1   Destination IP               128649 non-null  int32  \n",
      " 2   Destination Port             128649 non-null  float64\n",
      " 3   Protocol                     128649 non-null  float64\n",
      " 4   Total Length of Fwd Packets  128649 non-null  float64\n",
      " 5   Fwd Packet Length Max        128649 non-null  float64\n",
      " 6   Fwd Packet Length Min        128649 non-null  float64\n",
      " 7   Fwd Packet Length Mean       128649 non-null  float64\n",
      " 8   Bwd Packet Length Max        128649 non-null  float64\n",
      " 9   Bwd Packet Length Min        128649 non-null  float64\n",
      " 10  Bwd Packet Length Mean       128649 non-null  float64\n",
      " 11  Bwd Packet Length Std        128649 non-null  float64\n",
      " 12  Flow Bytes/s                 128649 non-null  float64\n",
      " 13  Flow Packets/s               128649 non-null  float64\n",
      " 14  Flow IAT Mean                128649 non-null  float64\n",
      " 15  Flow IAT Std                 128649 non-null  float64\n",
      " 16  Fwd IAT Mean                 128649 non-null  float64\n",
      " 17  Fwd IAT Std                  128649 non-null  float64\n",
      " 18  Fwd PSH Flags                128649 non-null  float64\n",
      " 19  Fwd Packets/s                128649 non-null  float64\n",
      " 20  Min Packet Length            128649 non-null  float64\n",
      " 21  Max Packet Length            128649 non-null  float64\n",
      " 22  Packet Length Mean           128649 non-null  float64\n",
      " 23  Packet Length Variance       128649 non-null  float64\n",
      " 24  RST Flag Count               128649 non-null  float64\n",
      " 25  ACK Flag Count               128649 non-null  float64\n",
      " 26  URG Flag Count               128649 non-null  float64\n",
      " 27  CWE Flag Count               128649 non-null  float64\n",
      " 28  Average Packet Size          128649 non-null  float64\n",
      " 29  Avg Fwd Segment Size         128649 non-null  float64\n",
      " 30  Avg Bwd Segment Size         128649 non-null  float64\n",
      " 31  Subflow Fwd Bytes            128649 non-null  float64\n",
      " 32  Init_Win_bytes_forward       128649 non-null  float64\n",
      " 33  Init_Win_bytes_backward      128649 non-null  float64\n",
      " 34  Idle Std                     128649 non-null  float64\n",
      " 35  Label                        128649 non-null  int32  \n",
      "dtypes: float64(34), int32(2)\n",
      "memory usage: 35.3 MB\n"
     ]
    }
   ],
   "source": [
    "df.info()"
   ]
  },
  {
   "cell_type": "markdown",
   "id": "I0HIqyQJUUsH",
   "metadata": {
    "id": "I0HIqyQJUUsH"
   },
   "source": [
    "# DATA SPLITTING"
   ]
  },
  {
   "cell_type": "code",
   "execution_count": 34,
   "id": "4d7dacb5",
   "metadata": {
    "id": "4d7dacb5"
   },
   "outputs": [],
   "source": [
    "X = df.drop(['Label'], axis=1)\n",
    "y = df['Label']"
   ]
  },
  {
   "cell_type": "code",
   "execution_count": 35,
   "id": "eaaada47",
   "metadata": {
    "id": "eaaada47"
   },
   "outputs": [],
   "source": [
    "ms = MinMaxScaler()\n",
    "X = ms.fit_transform(X)"
   ]
  },
  {
   "cell_type": "code",
   "execution_count": 36,
   "id": "330ee42e",
   "metadata": {
    "colab": {
     "base_uri": "https://localhost:8080/"
    },
    "id": "330ee42e",
    "outputId": "80c0234e-d33b-404c-9c8a-1e0763bde143"
   },
   "outputs": [
    {
     "name": "stdout",
     "output_type": "stream",
     "text": [
      "(90054, 35) (38595, 35)\n"
     ]
    }
   ],
   "source": [
    "X_train, X_test, y_train, y_test = train_test_split(X, y,test_size=0.3)\n",
    "print(X_train.shape, X_test.shape)"
   ]
  },
  {
   "cell_type": "markdown",
   "id": "qlxWjwv4UX0m",
   "metadata": {
    "id": "qlxWjwv4UX0m"
   },
   "source": [
    "# MODEL TRAINING"
   ]
  },
  {
   "cell_type": "code",
   "execution_count": 37,
   "id": "c055b463",
   "metadata": {
    "colab": {
     "base_uri": "https://localhost:8080/"
    },
    "id": "c055b463",
    "outputId": "56b3acea-70e6-49a0-ec95-dfcc29db5d89"
   },
   "outputs": [
    {
     "data": {
      "text/html": [
       "<pre style=\"white-space:pre;overflow-x:auto;line-height:normal;font-family:Menlo,'DejaVu Sans Mono',consolas,'Courier New',monospace\"><span style=\"font-weight: bold\">Model: \"sequential\"</span>\n",
       "</pre>\n"
      ],
      "text/plain": [
       "\u001b[1mModel: \"sequential\"\u001b[0m\n"
      ]
     },
     "metadata": {},
     "output_type": "display_data"
    },
    {
     "data": {
      "text/html": [
       "<pre style=\"white-space:pre;overflow-x:auto;line-height:normal;font-family:Menlo,'DejaVu Sans Mono',consolas,'Courier New',monospace\">┏━━━━━━━━━━━━━━━━━━━━━━━━━━━━━━━━━┳━━━━━━━━━━━━━━━━━━━━━━━━┳━━━━━━━━━━━━━━━┓\n",
       "┃<span style=\"font-weight: bold\"> Layer (type)                    </span>┃<span style=\"font-weight: bold\"> Output Shape           </span>┃<span style=\"font-weight: bold\">       Param # </span>┃\n",
       "┡━━━━━━━━━━━━━━━━━━━━━━━━━━━━━━━━━╇━━━━━━━━━━━━━━━━━━━━━━━━╇━━━━━━━━━━━━━━━┩\n",
       "│ Input_Layer (<span style=\"color: #0087ff; text-decoration-color: #0087ff\">Dense</span>)             │ (<span style=\"color: #00d7ff; text-decoration-color: #00d7ff\">None</span>, <span style=\"color: #00af00; text-decoration-color: #00af00\">35</span>)             │         <span style=\"color: #00af00; text-decoration-color: #00af00\">1,260</span> │\n",
       "├─────────────────────────────────┼────────────────────────┼───────────────┤\n",
       "│ Hidden_Layer_1 (<span style=\"color: #0087ff; text-decoration-color: #0087ff\">Dense</span>)          │ (<span style=\"color: #00d7ff; text-decoration-color: #00d7ff\">None</span>, <span style=\"color: #00af00; text-decoration-color: #00af00\">22</span>)             │           <span style=\"color: #00af00; text-decoration-color: #00af00\">792</span> │\n",
       "├─────────────────────────────────┼────────────────────────┼───────────────┤\n",
       "│ Dropout_Layer (<span style=\"color: #0087ff; text-decoration-color: #0087ff\">Dropout</span>)         │ (<span style=\"color: #00d7ff; text-decoration-color: #00d7ff\">None</span>, <span style=\"color: #00af00; text-decoration-color: #00af00\">22</span>)             │             <span style=\"color: #00af00; text-decoration-color: #00af00\">0</span> │\n",
       "├─────────────────────────────────┼────────────────────────┼───────────────┤\n",
       "│ Hidden_Layer_2 (<span style=\"color: #0087ff; text-decoration-color: #0087ff\">Dense</span>)          │ (<span style=\"color: #00d7ff; text-decoration-color: #00d7ff\">None</span>, <span style=\"color: #00af00; text-decoration-color: #00af00\">22</span>)             │           <span style=\"color: #00af00; text-decoration-color: #00af00\">506</span> │\n",
       "├─────────────────────────────────┼────────────────────────┼───────────────┤\n",
       "│ Output_Layer (<span style=\"color: #0087ff; text-decoration-color: #0087ff\">Dense</span>)            │ (<span style=\"color: #00d7ff; text-decoration-color: #00d7ff\">None</span>, <span style=\"color: #00af00; text-decoration-color: #00af00\">1</span>)              │            <span style=\"color: #00af00; text-decoration-color: #00af00\">23</span> │\n",
       "└─────────────────────────────────┴────────────────────────┴───────────────┘\n",
       "</pre>\n"
      ],
      "text/plain": [
       "┏━━━━━━━━━━━━━━━━━━━━━━━━━━━━━━━━━┳━━━━━━━━━━━━━━━━━━━━━━━━┳━━━━━━━━━━━━━━━┓\n",
       "┃\u001b[1m \u001b[0m\u001b[1mLayer (type)                   \u001b[0m\u001b[1m \u001b[0m┃\u001b[1m \u001b[0m\u001b[1mOutput Shape          \u001b[0m\u001b[1m \u001b[0m┃\u001b[1m \u001b[0m\u001b[1m      Param #\u001b[0m\u001b[1m \u001b[0m┃\n",
       "┡━━━━━━━━━━━━━━━━━━━━━━━━━━━━━━━━━╇━━━━━━━━━━━━━━━━━━━━━━━━╇━━━━━━━━━━━━━━━┩\n",
       "│ Input_Layer (\u001b[38;5;33mDense\u001b[0m)             │ (\u001b[38;5;45mNone\u001b[0m, \u001b[38;5;34m35\u001b[0m)             │         \u001b[38;5;34m1,260\u001b[0m │\n",
       "├─────────────────────────────────┼────────────────────────┼───────────────┤\n",
       "│ Hidden_Layer_1 (\u001b[38;5;33mDense\u001b[0m)          │ (\u001b[38;5;45mNone\u001b[0m, \u001b[38;5;34m22\u001b[0m)             │           \u001b[38;5;34m792\u001b[0m │\n",
       "├─────────────────────────────────┼────────────────────────┼───────────────┤\n",
       "│ Dropout_Layer (\u001b[38;5;33mDropout\u001b[0m)         │ (\u001b[38;5;45mNone\u001b[0m, \u001b[38;5;34m22\u001b[0m)             │             \u001b[38;5;34m0\u001b[0m │\n",
       "├─────────────────────────────────┼────────────────────────┼───────────────┤\n",
       "│ Hidden_Layer_2 (\u001b[38;5;33mDense\u001b[0m)          │ (\u001b[38;5;45mNone\u001b[0m, \u001b[38;5;34m22\u001b[0m)             │           \u001b[38;5;34m506\u001b[0m │\n",
       "├─────────────────────────────────┼────────────────────────┼───────────────┤\n",
       "│ Output_Layer (\u001b[38;5;33mDense\u001b[0m)            │ (\u001b[38;5;45mNone\u001b[0m, \u001b[38;5;34m1\u001b[0m)              │            \u001b[38;5;34m23\u001b[0m │\n",
       "└─────────────────────────────────┴────────────────────────┴───────────────┘\n"
      ]
     },
     "metadata": {},
     "output_type": "display_data"
    },
    {
     "data": {
      "text/html": [
       "<pre style=\"white-space:pre;overflow-x:auto;line-height:normal;font-family:Menlo,'DejaVu Sans Mono',consolas,'Courier New',monospace\"><span style=\"font-weight: bold\"> Total params: </span><span style=\"color: #00af00; text-decoration-color: #00af00\">2,581</span> (10.08 KB)\n",
       "</pre>\n"
      ],
      "text/plain": [
       "\u001b[1m Total params: \u001b[0m\u001b[38;5;34m2,581\u001b[0m (10.08 KB)\n"
      ]
     },
     "metadata": {},
     "output_type": "display_data"
    },
    {
     "data": {
      "text/html": [
       "<pre style=\"white-space:pre;overflow-x:auto;line-height:normal;font-family:Menlo,'DejaVu Sans Mono',consolas,'Courier New',monospace\"><span style=\"font-weight: bold\"> Trainable params: </span><span style=\"color: #00af00; text-decoration-color: #00af00\">2,581</span> (10.08 KB)\n",
       "</pre>\n"
      ],
      "text/plain": [
       "\u001b[1m Trainable params: \u001b[0m\u001b[38;5;34m2,581\u001b[0m (10.08 KB)\n"
      ]
     },
     "metadata": {},
     "output_type": "display_data"
    },
    {
     "data": {
      "text/html": [
       "<pre style=\"white-space:pre;overflow-x:auto;line-height:normal;font-family:Menlo,'DejaVu Sans Mono',consolas,'Courier New',monospace\"><span style=\"font-weight: bold\"> Non-trainable params: </span><span style=\"color: #00af00; text-decoration-color: #00af00\">0</span> (0.00 B)\n",
       "</pre>\n"
      ],
      "text/plain": [
       "\u001b[1m Non-trainable params: \u001b[0m\u001b[38;5;34m0\u001b[0m (0.00 B)\n"
      ]
     },
     "metadata": {},
     "output_type": "display_data"
    }
   ],
   "source": [
    "model = keras.Sequential()\n",
    "model.add(Input(shape=(35,)))\n",
    "model.add(Dense(35,name = \"Input_Layer\"))\n",
    "model.add(Dense(22 , activation=\"relu\" , name=\"Hidden_Layer_1\"))\n",
    "model.add(Dropout(0.5, name=\"Dropout_Layer\"))\n",
    "model.add(Dense(22 , activation=\"relu\" , name=\"Hidden_Layer_2\"))\n",
    "model.add(Dense(1 , activation=\"sigmoid\" , name=\"Output_Layer\"))\n",
    "opt = keras.optimizers.Adam(learning_rate=0.0015)\n",
    "model.compile( optimizer=opt, loss=\"binary_crossentropy\", metrics=['accuracy'])\n",
    "model.summary()"
   ]
  },
  {
   "cell_type": "code",
   "execution_count": 43,
   "id": "726cf4af",
   "metadata": {
    "colab": {
     "base_uri": "https://localhost:8080/"
    },
    "id": "726cf4af",
    "outputId": "6ed3878a-b738-4af5-cccd-77fe2350c89d"
   },
   "outputs": [
    {
     "name": "stdout",
     "output_type": "stream",
     "text": [
      "Epoch 1/50\n",
      "704/704 - 4s - 6ms/step - accuracy: 0.9479 - loss: 0.1380 - val_accuracy: 0.9643 - val_loss: 0.0634\n",
      "Epoch 2/50\n",
      "704/704 - 1s - 2ms/step - accuracy: 0.9748 - loss: 0.0604 - val_accuracy: 0.9816 - val_loss: 0.0449\n",
      "Epoch 3/50\n",
      "704/704 - 1s - 2ms/step - accuracy: 0.9798 - loss: 0.0490 - val_accuracy: 0.9836 - val_loss: 0.0366\n",
      "Epoch 4/50\n",
      "704/704 - 1s - 2ms/step - accuracy: 0.9820 - loss: 0.0419 - val_accuracy: 0.9863 - val_loss: 0.0288\n",
      "Epoch 5/50\n",
      "704/704 - 1s - 2ms/step - accuracy: 0.9855 - loss: 0.0351 - val_accuracy: 0.9942 - val_loss: 0.0262\n",
      "Epoch 6/50\n",
      "704/704 - 1s - 2ms/step - accuracy: 0.9869 - loss: 0.0328 - val_accuracy: 0.9876 - val_loss: 0.0231\n",
      "Epoch 7/50\n",
      "704/704 - 1s - 2ms/step - accuracy: 0.9878 - loss: 0.0307 - val_accuracy: 0.9921 - val_loss: 0.0211\n",
      "Epoch 8/50\n",
      "704/704 - 1s - 2ms/step - accuracy: 0.9892 - loss: 0.0281 - val_accuracy: 0.9941 - val_loss: 0.0192\n",
      "Epoch 9/50\n",
      "704/704 - 2s - 2ms/step - accuracy: 0.9895 - loss: 0.0266 - val_accuracy: 0.9961 - val_loss: 0.0154\n",
      "Epoch 10/50\n",
      "704/704 - 2s - 2ms/step - accuracy: 0.9894 - loss: 0.0273 - val_accuracy: 0.9932 - val_loss: 0.0211\n",
      "Epoch 11/50\n",
      "704/704 - 2s - 3ms/step - accuracy: 0.9901 - loss: 0.0255 - val_accuracy: 0.9947 - val_loss: 0.0174\n",
      "Epoch 12/50\n",
      "704/704 - 3s - 4ms/step - accuracy: 0.9913 - loss: 0.0233 - val_accuracy: 0.9960 - val_loss: 0.0142\n",
      "Epoch 13/50\n",
      "704/704 - 3s - 4ms/step - accuracy: 0.9919 - loss: 0.0224 - val_accuracy: 0.9953 - val_loss: 0.0190\n",
      "Epoch 14/50\n",
      "704/704 - 2s - 3ms/step - accuracy: 0.9918 - loss: 0.0222 - val_accuracy: 0.9932 - val_loss: 0.0175\n",
      "Epoch 15/50\n",
      "704/704 - 2s - 3ms/step - accuracy: 0.9923 - loss: 0.0207 - val_accuracy: 0.9974 - val_loss: 0.0110\n",
      "Epoch 16/50\n",
      "704/704 - 2s - 3ms/step - accuracy: 0.9925 - loss: 0.0203 - val_accuracy: 0.9962 - val_loss: 0.0133\n",
      "Epoch 17/50\n",
      "704/704 - 2s - 3ms/step - accuracy: 0.9921 - loss: 0.0204 - val_accuracy: 0.9962 - val_loss: 0.0144\n",
      "Epoch 18/50\n",
      "704/704 - 2s - 3ms/step - accuracy: 0.9921 - loss: 0.0213 - val_accuracy: 0.9961 - val_loss: 0.0139\n",
      "Epoch 19/50\n",
      "704/704 - 2s - 3ms/step - accuracy: 0.9924 - loss: 0.0205 - val_accuracy: 0.9972 - val_loss: 0.0141\n",
      "Epoch 20/50\n",
      "704/704 - 2s - 3ms/step - accuracy: 0.9925 - loss: 0.0212 - val_accuracy: 0.9953 - val_loss: 0.0163\n",
      "Epoch 21/50\n",
      "704/704 - 2s - 3ms/step - accuracy: 0.9929 - loss: 0.0198 - val_accuracy: 0.9949 - val_loss: 0.0140\n",
      "Epoch 22/50\n",
      "704/704 - 2s - 3ms/step - accuracy: 0.9929 - loss: 0.0203 - val_accuracy: 0.9968 - val_loss: 0.0119\n",
      "Epoch 23/50\n",
      "704/704 - 2s - 3ms/step - accuracy: 0.9929 - loss: 0.0189 - val_accuracy: 0.9972 - val_loss: 0.0118\n",
      "Epoch 24/50\n",
      "704/704 - 2s - 3ms/step - accuracy: 0.9927 - loss: 0.0199 - val_accuracy: 0.9972 - val_loss: 0.0119\n",
      "Epoch 25/50\n",
      "704/704 - 2s - 3ms/step - accuracy: 0.9927 - loss: 0.0195 - val_accuracy: 0.9973 - val_loss: 0.0121\n",
      "Epoch 26/50\n",
      "704/704 - 2s - 3ms/step - accuracy: 0.9931 - loss: 0.0185 - val_accuracy: 0.9970 - val_loss: 0.0120\n",
      "Epoch 27/50\n",
      "704/704 - 2s - 3ms/step - accuracy: 0.9929 - loss: 0.0196 - val_accuracy: 0.9970 - val_loss: 0.0141\n",
      "Epoch 28/50\n",
      "704/704 - 2s - 3ms/step - accuracy: 0.9935 - loss: 0.0181 - val_accuracy: 0.9972 - val_loss: 0.0123\n",
      "Epoch 29/50\n",
      "704/704 - 2s - 3ms/step - accuracy: 0.9934 - loss: 0.0192 - val_accuracy: 0.9967 - val_loss: 0.0165\n",
      "Epoch 30/50\n",
      "704/704 - 3s - 4ms/step - accuracy: 0.9935 - loss: 0.0179 - val_accuracy: 0.9974 - val_loss: 0.0106\n",
      "Epoch 31/50\n",
      "704/704 - 2s - 3ms/step - accuracy: 0.9934 - loss: 0.0189 - val_accuracy: 0.9964 - val_loss: 0.0146\n",
      "Epoch 32/50\n",
      "704/704 - 3s - 4ms/step - accuracy: 0.9938 - loss: 0.0182 - val_accuracy: 0.9967 - val_loss: 0.0118\n",
      "Epoch 33/50\n",
      "704/704 - 3s - 4ms/step - accuracy: 0.9936 - loss: 0.0177 - val_accuracy: 0.9971 - val_loss: 0.0137\n",
      "Epoch 34/50\n",
      "704/704 - 2s - 3ms/step - accuracy: 0.9935 - loss: 0.0184 - val_accuracy: 0.9973 - val_loss: 0.0151\n",
      "Epoch 35/50\n",
      "704/704 - 2s - 3ms/step - accuracy: 0.9936 - loss: 0.0181 - val_accuracy: 0.9973 - val_loss: 0.0120\n",
      "Epoch 36/50\n",
      "704/704 - 1s - 2ms/step - accuracy: 0.9940 - loss: 0.0169 - val_accuracy: 0.9973 - val_loss: 0.0102\n",
      "Epoch 37/50\n",
      "704/704 - 1s - 2ms/step - accuracy: 0.9945 - loss: 0.0169 - val_accuracy: 0.9973 - val_loss: 0.0096\n",
      "Epoch 38/50\n",
      "704/704 - 1s - 2ms/step - accuracy: 0.9940 - loss: 0.0173 - val_accuracy: 0.9972 - val_loss: 0.0121\n",
      "Epoch 39/50\n",
      "704/704 - 1s - 2ms/step - accuracy: 0.9942 - loss: 0.0165 - val_accuracy: 0.9937 - val_loss: 0.0217\n",
      "Epoch 40/50\n",
      "704/704 - 1s - 2ms/step - accuracy: 0.9939 - loss: 0.0173 - val_accuracy: 0.9973 - val_loss: 0.0092\n",
      "Epoch 41/50\n",
      "704/704 - 1s - 2ms/step - accuracy: 0.9943 - loss: 0.0159 - val_accuracy: 0.9966 - val_loss: 0.0114\n",
      "Epoch 42/50\n",
      "704/704 - 1s - 2ms/step - accuracy: 0.9943 - loss: 0.0157 - val_accuracy: 0.9976 - val_loss: 0.0099\n",
      "Epoch 43/50\n",
      "704/704 - 1s - 2ms/step - accuracy: 0.9946 - loss: 0.0159 - val_accuracy: 0.9975 - val_loss: 0.0123\n",
      "Epoch 44/50\n",
      "704/704 - 1s - 2ms/step - accuracy: 0.9939 - loss: 0.0169 - val_accuracy: 0.9971 - val_loss: 0.0128\n",
      "Epoch 45/50\n",
      "704/704 - 1s - 2ms/step - accuracy: 0.9939 - loss: 0.0167 - val_accuracy: 0.9942 - val_loss: 0.0195\n",
      "Epoch 46/50\n",
      "704/704 - 1s - 2ms/step - accuracy: 0.9940 - loss: 0.0167 - val_accuracy: 0.9969 - val_loss: 0.0115\n",
      "Epoch 47/50\n",
      "704/704 - 1s - 2ms/step - accuracy: 0.9944 - loss: 0.0150 - val_accuracy: 0.9974 - val_loss: 0.0106\n",
      "Epoch 48/50\n",
      "704/704 - 1s - 2ms/step - accuracy: 0.9938 - loss: 0.0173 - val_accuracy: 0.9961 - val_loss: 0.0138\n",
      "Epoch 49/50\n",
      "704/704 - 1s - 2ms/step - accuracy: 0.9940 - loss: 0.0174 - val_accuracy: 0.9965 - val_loss: 0.0143\n",
      "Epoch 50/50\n",
      "704/704 - 1s - 2ms/step - accuracy: 0.9941 - loss: 0.0171 - val_accuracy: 0.9976 - val_loss: 0.0118\n",
      "\u001b[1m1207/1207\u001b[0m \u001b[32m━━━━━━━━━━━━━━━━━━━━\u001b[0m\u001b[37m\u001b[0m \u001b[1m1s\u001b[0m 1ms/step\n",
      "\u001b[1m1207/1207\u001b[0m \u001b[32m━━━━━━━━━━━━━━━━━━━━\u001b[0m\u001b[37m\u001b[0m \u001b[1m1s\u001b[0m 1ms/step - accuracy: 0.9980 - loss: 0.0107\n",
      "Validation Loss:  0.011822675354778767\n",
      "Accuracy:  0.9975903630256653\n"
     ]
    }
   ],
   "source": [
    "from timeit import default_timer as timer\n",
    "startTime = timer()\n",
    "historyOrg = model.fit(\n",
    "    X_train,\n",
    "    y_train,\n",
    "    batch_size=128,\n",
    "    epochs=50, verbose=2,\n",
    "    callbacks=None,\n",
    "    validation_data=(X_test,y_test),\n",
    "    shuffle=True,\n",
    "    class_weight=None,\n",
    "    sample_weight=None,\n",
    "    initial_epoch=0)\n",
    "endTime = timer()\n",
    "timeTaken = endTime - startTime\n",
    "predictions = model.predict(X_test)\n",
    "loss, accuracy = model.evaluate(X_test,y_test)\n",
    "print(\"Training time: \", timeTaken)\n",
    "print(\"Validation Loss: \",loss)\n",
    "print(\"Accuracy: \",accuracy)"
   ]
  },
  {
   "cell_type": "code",
   "execution_count": 40,
   "id": "e06c34f1",
   "metadata": {
    "colab": {
     "base_uri": "https://localhost:8080/",
     "height": 472
    },
    "id": "e06c34f1",
    "outputId": "be3ded20-ccee-4174-b21d-c450594c77cd"
   },
   "outputs": [
    {
     "ename": "NameError",
     "evalue": "name 'historyOrg' is not defined",
     "output_type": "error",
     "traceback": [
      "\u001b[1;31m---------------------------------------------------------------------------\u001b[0m",
      "\u001b[1;31mNameError\u001b[0m                                 Traceback (most recent call last)",
      "Cell \u001b[1;32mIn[40], line 1\u001b[0m\n\u001b[1;32m----> 1\u001b[0m loss \u001b[38;5;241m=\u001b[39m historyOrg\u001b[38;5;241m.\u001b[39mhistory[\u001b[38;5;124m'\u001b[39m\u001b[38;5;124mloss\u001b[39m\u001b[38;5;124m'\u001b[39m]\n\u001b[0;32m      2\u001b[0m val_loss \u001b[38;5;241m=\u001b[39m historyOrg\u001b[38;5;241m.\u001b[39mhistory[\u001b[38;5;124m'\u001b[39m\u001b[38;5;124mval_loss\u001b[39m\u001b[38;5;124m'\u001b[39m]\n\u001b[0;32m      3\u001b[0m epochs \u001b[38;5;241m=\u001b[39m \u001b[38;5;28mrange\u001b[39m(\u001b[38;5;241m1\u001b[39m, \u001b[38;5;28mlen\u001b[39m(loss) \u001b[38;5;241m+\u001b[39m \u001b[38;5;241m1\u001b[39m)\n",
      "\u001b[1;31mNameError\u001b[0m: name 'historyOrg' is not defined"
     ]
    }
   ],
   "source": [
    "loss = historyOrg.history['loss']\n",
    "val_loss = historyOrg.history['val_loss']\n",
    "epochs = range(1, len(loss) + 1)\n",
    "plt.plot(epochs, loss, 'g', label = 'Training Loss')\n",
    "plt.plot(epochs, val_loss, 'r', label = 'Validation Loss')\n",
    "plt.title('Loss v/s No. of epochs')\n",
    "plt.xlabel('Number of Epochs')\n",
    "plt.ylabel('Loss')\n",
    "plt.legend()\n",
    "plt.show()"
   ]
  },
  {
   "cell_type": "code",
   "execution_count": 45,
   "id": "7dffb012",
   "metadata": {
    "colab": {
     "base_uri": "https://localhost:8080/",
     "height": 472
    },
    "id": "7dffb012",
    "outputId": "523ec344-dcc9-41fe-d142-0e2af08079c6"
   },
   "outputs": [
    {
     "data": {
      "image/png": "[encoded data removed]",
      "text/plain": [
       "<Figure size 640x480 with 1 Axes>"
      ]
     },
     "metadata": {},
     "output_type": "display_data"
    }
   ],
   "source": [
    "loss = historyOrg.history['accuracy']\n",
    "val_loss = historyOrg.history['val_accuracy']\n",
    "plt.plot(epochs, loss, 'g', label = 'Training accuracy')\n",
    "plt.plot(epochs, val_loss, 'r', label = 'Validation accuracy')\n",
    "plt.title('Accuracy Scores v/s Number of Epochs')\n",
    "plt.xlabel('No. of Epochs')\n",
    "plt.ylabel('Accuracy Score')\n",
    "plt.legend()\n",
    "plt.show()"
   ]
  },
  {
   "cell_type": "markdown",
   "id": "8X4ydDRtUeCS",
   "metadata": {
    "id": "8X4ydDRtUeCS"
   },
   "source": [
    "# CONFUSION MATRIX"
   ]
  },
  {
   "cell_type": "code",
   "execution_count": 46,
   "id": "e2270dfb",
   "metadata": {
    "id": "e2270dfb"
   },
   "outputs": [],
   "source": [
    "targetLabel = (predictions >0.5).astype(int)"
   ]
  },
  {
   "cell_type": "code",
   "execution_count": 47,
   "id": "b07b5f62",
   "metadata": {
    "colab": {
     "base_uri": "https://localhost:8080/",
     "height": 487
    },
    "id": "b07b5f62",
    "outputId": "2e9fd87e-4edc-402b-d276-0614dcd0ae06"
   },
   "outputs": [
    {
     "data": {
      "image/png": "[encoded data removed]",
      "text/plain": [
       "<Figure size 640x480 with 2 Axes>"
      ]
     },
     "metadata": {},
     "output_type": "display_data"
    }
   ],
   "source": [
    "import matplotlib.pyplot as plt\n",
    "from sklearn.metrics import confusion_matrix\n",
    "import numpy as np\n",
    "\n",
    "# Example confusion matrix\n",
    "# Replace this with your actual confusion matrix\n",
    "cm = confusion_matrix(y_test,targetLabel)\n",
    "# Plot confusion matrix\n",
    "plt.imshow(cm, interpolation='nearest', cmap=plt.cm.RdPu)\n",
    "plt.title('Confusion matrix')\n",
    "plt.colorbar()\n",
    "tick_marks = np.arange(2)\n",
    "plt.xticks(tick_marks, ['Benign', 'Malign'], rotation=45)\n",
    "plt.yticks(tick_marks, ['Benign', 'Malign'])\n",
    "\n",
    "plt.ylabel('Real label')\n",
    "plt.xlabel('Predicted label')\n",
    "plt.grid(False)  # Xóa đường kẻ\n",
    "# Add text annotations\n",
    "thresh = cm.max() / 2.\n",
    "for i, j in np.ndindex(cm.shape):\n",
    "    plt.text(j, i, format(cm[i, j], 'd'),\n",
    "             ha=\"center\", va=\"center\",\n",
    "             color=\"white\" if cm[i, j] > thresh else \"black\")\n",
    "plt.tight_layout()\n",
    "plt.show()"
   ]
  },
  {
   "cell_type": "code",
   "execution_count": 48,
   "id": "a46c44ac",
   "metadata": {
    "colab": {
     "base_uri": "https://localhost:8080/"
    },
    "id": "a46c44ac",
    "outputId": "23c3dca4-e1de-478a-8ef7-c2a0773b1389"
   },
   "outputs": [
    {
     "name": "stdout",
     "output_type": "stream",
     "text": [
      "Classification Report:  \n",
      "               precision    recall  f1-score   support\n",
      "\n",
      "           0   0.997784  0.997832  0.997808     21213\n",
      "           1   0.997353  0.997296  0.997325     17382\n",
      "\n",
      "    accuracy                       0.997590     38595\n",
      "   macro avg   0.997569  0.997564  0.997566     38595\n",
      "weighted avg   0.997590  0.997590  0.997590     38595\n",
      "\n"
     ]
    }
   ],
   "source": [
    "from sklearn.metrics import classification_report\n",
    "print (\"Classification Report: \", \"\\n\",  classification_report(y_test,targetLabel,digits = 6))"
   ]
  },
  {
   "cell_type": "code",
   "execution_count": 49,
   "id": "c4fe336b",
   "metadata": {
    "id": "c4fe336b",
    "outputId": "332846a7-d79a-41b4-a87a-1e549eac755d"
   },
   "outputs": [
    {
     "name": "stdout",
     "output_type": "stream",
     "text": [
      "Save model? (y/n) y\n",
      "Named model: model.keras\n"
     ]
    }
   ],
   "source": [
    "save = input(\"Save model? (y/n) \")\n",
    "if save == 'y':\n",
    "    named = input('Named model: ')\n",
    "    model.save(named)"
   ]
  },
  {
   "cell_type": "markdown",
   "id": "JmkoD8d8UhFj",
   "metadata": {
    "id": "JmkoD8d8UhFj"
   },
   "source": [
    "# PREDICT MODEL IN REAL TIME"
   ]
  },
  {
   "cell_type": "code",
   "execution_count": 38,
   "id": "1571cb0d",
   "metadata": {
    "id": "1571cb0d"
   },
   "outputs": [],
   "source": [
    "def getRecentFile(directory, fullPath=True):\n",
    "    # Lấy danh sách tất cả các file trong thư mục\n",
    "    files = [os.path.join(directory, f) for f in os.listdir(directory) if os.path.isfile(os.path.join(directory, f))]\n",
    "    \n",
    "    # Kiểm tra xem có file nào trong thư mục không\n",
    "    if not files:\n",
    "        return None\n",
    "    # Tìm file có thời gian chỉnh sửa gần nhất\n",
    "    mostRecentlyFile = max(files, key=os.path.getmtime)\n",
    "    #Trả về đường dẫn đầy đủ hoặc chỉ tên tệp\n",
    "    if fullPath:\n",
    "        return mostRecentlyFile\n",
    "    else:\n",
    "        return os.path.basename(mostRecentlyFile)"
   ]
  },
  {
   "cell_type": "code",
   "execution_count": 39,
   "id": "95e63861",
   "metadata": {
    "id": "95e63861"
   },
   "outputs": [],
   "source": [
    "def readNewLines(directory,lastPosition):\n",
    "    #Mở file csv từ đường dẫn\n",
    "    with open(directory, 'r') as file:\n",
    "        # Di chuyển con trỏ tới vị trí cuối cùng đã đọc\n",
    "        file.seek(lastPosition)\n",
    "        \n",
    "        # Đọc các dòng mới\n",
    "        lines = file.readlines()\n",
    "        \n",
    "        # Cập nhật vị trí cuối cùng đã đọc\n",
    "        newPosition = file.tell()\n",
    "        \n",
    "    return lines, newPosition"
   ]
  },
  {
   "cell_type": "code",
   "execution_count": 40,
   "id": "2fd58839",
   "metadata": {
    "id": "2fd58839"
   },
   "outputs": [],
   "source": [
    "def processingLines(lines):\n",
    "    df = None\n",
    "    if lines:\n",
    "        # Chuyển các dòng thành DataFrame\n",
    "        from io import StringIO\n",
    "        data = ''.join(lines)\n",
    "        df = pd.read_csv(StringIO(data))\n",
    "    return df"
   ]
  },
  {
   "cell_type": "code",
   "execution_count": 41,
   "id": "f044247d",
   "metadata": {
    "id": "f044247d"
   },
   "outputs": [],
   "source": [
    "def processingData(df):\n",
    "    #Xóa các cột có giá trị NULL nếu có\n",
    "    df.isnull().sum()\n",
    "    df.dropna(inplace=True)\n",
    "    #Xóa các cột có giá trị quá lớn hoặc INF nếu có\n",
    "    isInf = np.isinf(df)\n",
    "    isLarge = np.abs(df) > 1e10\n",
    "    df[isInf] = np.nan  # Thay thế các giá trị vô cùng bằng NaN\n",
    "    df[isLarge] = np.nan  # Thay thế các giá trị quá lớn bằng NaN\n",
    "    # Loại bỏ các giá trị NaN\n",
    "    nanColumns = df.columns[df.isna().any()].tolist()\n",
    "    df = df.dropna(subset=nanColumns)\n",
    "    return df"
   ]
  },
  {
   "cell_type": "code",
   "execution_count": 42,
   "id": "65763ce7",
   "metadata": {
    "id": "65763ce7"
   },
   "outputs": [],
   "source": [
    "def dropColumns(df):\n",
    "    #Xóa dấu cách các cột (nếu có)\n",
    "    df = df.rename(columns=lambda x: x.strip())\n",
    "    #Lựa chọn đặc trưng\n",
    "    df=df.drop('Bwd PSH Flags',axis=1)\n",
    "    df=df.drop('Fwd URG Flags',axis=1)\n",
    "    df=df.drop('Bwd URG Flags',axis=1)\n",
    "    df=df.drop('FIN Flag Count',axis=1)\n",
    "    df=df.drop('PSH Flag Count',axis=1)\n",
    "    df=df.drop('ECE Flag Count',axis=1)\n",
    "    df=df.drop('Fwd Avg Bytes/Bulk',axis=1)\n",
    "    df=df.drop('Fwd Avg Packets/Bulk',axis=1)\n",
    "    df=df.drop('Fwd Avg Bulk Rate',axis=1)\n",
    "    df=df.drop('Bwd Avg Bytes/Bulk',axis=1)\n",
    "    df=df.drop('Bwd Avg Packets/Bulk',axis=1)\n",
    "    df=df.drop('Bwd Avg Bulk Rate',axis=1)\n",
    "    df=df.drop('Flow ID', axis=1)\n",
    "    df=df.drop('Timestamp', axis=1)\n",
    "    df=df.drop('Source IP',axis=1)\n",
    "    df=df.drop('Flow Duration',axis=1)\n",
    "    df=df.drop('Total Fwd Packets',axis=1)\n",
    "    df=df.drop('Total Backward Packets',axis=1)\n",
    "    df=df.drop('Total Length of Bwd Packets',axis=1)\n",
    "    df=df.drop('Fwd Packet Length Std',axis=1)\n",
    "    df=df.drop('Flow IAT Max',axis=1)\n",
    "    df=df.drop('Flow IAT Min',axis=1)\n",
    "    df=df.drop('Fwd IAT Total',axis=1)\n",
    "    df=df.drop('Fwd IAT Max',axis=1)\n",
    "    df=df.drop('Fwd IAT Min',axis=1)\n",
    "    df=df.drop('Bwd IAT Total',axis=1)\n",
    "    df=df.drop('Bwd IAT Mean',axis=1)\n",
    "    df=df.drop('Bwd IAT Std',axis=1)\n",
    "    df=df.drop('Bwd IAT Max',axis=1)\n",
    "    df=df.drop('Bwd IAT Min',axis=1)\n",
    "    df=df.drop('Fwd Header Length',axis=1)\n",
    "    df=df.drop('Bwd Header Length',axis=1)\n",
    "    df=df.drop('Bwd Packets/s',axis=1)\n",
    "    df=df.drop('SYN Flag Count',axis=1)\n",
    "    df=df.drop('Down/Up Ratio',axis=1)\n",
    "    df=df.drop('Subflow Fwd Packets',axis=1)\n",
    "    df=df.drop('Subflow Bwd Packets',axis=1)\n",
    "    df=df.drop('Subflow Bwd Bytes',axis=1)\n",
    "    df=df.drop('act_data_pkt_fwd',axis=1)\n",
    "    df=df.drop('min_seg_size_forward',axis=1)\n",
    "    df=df.drop('Active Mean',axis=1)\n",
    "    df=df.drop('Active Std',axis=1)\n",
    "    df=df.drop('Active Max',axis=1)\n",
    "    df=df.drop('Active Min',axis=1)\n",
    "    df=df.drop('Idle Mean',axis=1)\n",
    "    df=df.drop('Idle Max',axis=1)\n",
    "    df=df.drop('Idle Min',axis=1)\n",
    "    df=df.drop('Packet Length Std',axis=1)\n",
    "    return df"
   ]
  },
  {
   "cell_type": "code",
   "execution_count": 43,
   "id": "e7129d1b",
   "metadata": {
    "id": "e7129d1b"
   },
   "outputs": [],
   "source": [
    "def predictFlow(modelname):\n",
    "    mlp_live_iteration = 0 #Bằng 1 nếu chỉ đọc file hoàn chỉnh, lớn hơn 1 nếu đọc một file đang được ghi\n",
    "    hostile = 0 # Đếm số lượng hostile flow mà model đã dự đoán được\n",
    "    safe = 0 #Đếm số lượng safe flow mà model đã dự đoán\n",
    "    start = time.time() #Biến điều kiện ghi vào file log.txt trạng thái của flow sau 60s\n",
    "    stop = False #Điều kiện dừng vòng lặp while\n",
    "    lastPosition = 0 #Vị trí cuối cùng con trỏ trỏ đến trong file csv (ban đầu là 0)\n",
    "    directoryPath = '.\\\\CICFlowmeter\\\\bin\\\\data\\\\daily' #Đường dẫn đến folder chứa file csv\n",
    "    directory = getRecentFile(directoryPath, fullPath=True) #lấy ra file được chỉnh sửa hoặc tạo mới nhất\n",
    "    host = [] #Khởi tạo mảng dùng để lưu giá trị các hostile sau mỗi 30s\n",
    "    while not stop:\n",
    "        line, lastPosition = readNewLines(directory, lastPosition) #Lấy ra dòng mới đọc và vị trí cuối cùng con trỏ trỏ đến trong file csv\n",
    "        if (line == [] or line == None): #Kiểm tra xem line đã đọc hết dòng trong file csv chưa (csv dừng cập nhật dòng mới)\n",
    "            print('Finish!')\n",
    "            #stop = True\n",
    "            return mlp_live_iteration\n",
    "        else:\n",
    "            df = processingLines(line) #Biến các dòng dữ liệu đã đọc thành DataFrame\n",
    "            #Rename cột để đồng bộ features với Model\n",
    "            new_col = ['Flow ID', 'Source IP', 'Source Port', 'Destination IP',\n",
    "            'Destination Port', 'Protocol', 'Timestamp', 'Flow Duration',\n",
    "            'Total Fwd Packets', 'Total Backward Packets',\n",
    "            'Total Length of Fwd Packets', 'Total Length of Bwd Packets',\n",
    "            'Fwd Packet Length Max', 'Fwd Packet Length Min',\n",
    "            'Fwd Packet Length Mean', 'Fwd Packet Length Std',\n",
    "            'Bwd Packet Length Max', 'Bwd Packet Length Min',\n",
    "            'Bwd Packet Length Mean', 'Bwd Packet Length Std', 'Flow Bytes/s',\n",
    "            'Flow Packets/s', 'Flow IAT Mean', 'Flow IAT Std', 'Flow IAT Max',\n",
    "            'Flow IAT Min', 'Fwd IAT Total', 'Fwd IAT Mean', 'Fwd IAT Std',\n",
    "            'Fwd IAT Max', 'Fwd IAT Min', 'Bwd IAT Total', 'Bwd IAT Mean',\n",
    "            'Bwd IAT Std', 'Bwd IAT Max', 'Bwd IAT Min', 'Fwd PSH Flags',\n",
    "            'Bwd PSH Flags', 'Fwd URG Flags', 'Bwd URG Flags', 'Fwd Header Length',\n",
    "            'Bwd Header Length', 'Fwd Packets/s', 'Bwd Packets/s',\n",
    "            'Min Packet Length', 'Max Packet Length', 'Packet Length Mean',\n",
    "            'Packet Length Std', 'Packet Length Variance', 'FIN Flag Count',\n",
    "            'SYN Flag Count', 'RST Flag Count', 'PSH Flag Count', 'ACK Flag Count',\n",
    "            'URG Flag Count', 'CWE Flag Count', 'ECE Flag Count', 'Down/Up Ratio',\n",
    "            'Average Packet Size', 'Avg Fwd Segment Size', 'Avg Bwd Segment Size',\n",
    "            'Fwd Avg Bytes/Bulk', 'Fwd Avg Packets/Bulk',\n",
    "            'Fwd Avg Bulk Rate', 'Bwd Avg Bytes/Bulk', 'Bwd Avg Packets/Bulk',\n",
    "            'Bwd Avg Bulk Rate', 'Subflow Fwd Packets', 'Subflow Fwd Bytes',\n",
    "            'Subflow Bwd Packets', 'Subflow Bwd Bytes', 'Init_Win_bytes_forward',\n",
    "            'Init_Win_bytes_backward', 'act_data_pkt_fwd', 'min_seg_size_forward',\n",
    "            'Active Mean', 'Active Std', 'Active Max', 'Active Min', 'Idle Mean',\n",
    "            'Idle Std', 'Idle Max', 'Idle Min', 'Label']\n",
    "            df.columns = new_col\n",
    "            df = dropColumns(df) #Xóa cột không cần thiết (Feature Selection)\n",
    "            df = labelEncoding(df) #Mã hóa cột cate và obj\n",
    "            df = processingData(df) #Xử lí dữ liệu trước khi dự đoán\n",
    "            X = df.drop('Label', axis = 1) # Lấy ra bộ dữ liệu X để dự đoán\n",
    "            from keras.models import load_model\n",
    "            model = keras.models.load_model(modelname) # Load Model\n",
    "            model.compile( optimizer=opt, loss=\"binary_crossentropy\", metrics=['accuracy'])\n",
    "            predictions = model.predict(X) #Dự đoán X\n",
    "            #Đếm số safe và hostile flow\n",
    "            for check in predictions:\n",
    "                if check > 0.5:\n",
    "                    hostile += 1\n",
    "                else:\n",
    "                    safe += 1\n",
    "            host.append(hostile)\n",
    "            print(\"Safe Flows: \", safe)\n",
    "            print(\"Possible Hostile Flows: \", hostile)\n",
    "            print(\"Percentage of Hostile Flows: \", 100 * hostile/(safe + hostile))\n",
    "            print (\"\\n\")\n",
    "            mlp_live_iteration += 1\n",
    "            #Sau mỗi 60s sẽ ghi trạng thái vào được file log.txt\n",
    "            if (time.time() - start > 90):\n",
    "                for i in range(3, len(host)):\n",
    "                    temp = (host[i] - host[i - 3])/90\n",
    "                    if ( temp > 0.67):\n",
    "                        testwrite = open('log.txt', 'a+')\n",
    "                        testwrite.write('Attack Detected at: ')\n",
    "                        testwrite.write(datetime.datetime.now().strftime(\"%Y-%m-%d %H:%M\"))\n",
    "                        testwrite.write('\\n')\n",
    "                        testwrite.write('Flows collected: ')\n",
    "                        testwrite.write(str(safe + hostile))\n",
    "                        testwrite.write('\\n')\n",
    "                        return (\"Attack\")\n",
    "                    else:\n",
    "                        testwrite = open('log.txt', 'a+')\n",
    "                        testwrite.write('Normal Activity Detected at: ')\n",
    "                        testwrite.write(datetime.datetime.now().strftime(\"%Y-%m-%d %H:%M\"))\n",
    "                        testwrite.write('\\n')\n",
    "                        testwrite.write('Flows collected: ')\n",
    "                        testwrite.write(str(safe + hostile))\n",
    "                        testwrite.write('\\n \\n')\n",
    "                        return mlp_live_iteration\n",
    "            time.sleep(30)"
   ]
  },
  {
   "cell_type": "code",
   "execution_count": 48,
   "id": "300540da",
   "metadata": {
    "id": "300540da",
    "outputId": "3ef9207b-ae9a-42da-9fa7-02f2bd70450a",
    "scrolled": true
   },
   "outputs": [
    {
     "name": "stdout",
     "output_type": "stream",
     "text": [
      "Selection (0 or 1): 1\n",
      "Please enter model: model.keras\n",
      "\u001b[1m1/1\u001b[0m \u001b[32m━━━━━━━━━━━━━━━━━━━━\u001b[0m\u001b[37m\u001b[0m \u001b[1m0s\u001b[0m 93ms/step\n",
      "Safe Flows:  3\n",
      "Possible Hostile Flows:  0\n",
      "Percentage of Hostile Flows:  0.0\n",
      "\n",
      "\n",
      "\u001b[1m1/1\u001b[0m \u001b[32m━━━━━━━━━━━━━━━━━━━━\u001b[0m\u001b[37m\u001b[0m \u001b[1m0s\u001b[0m 120ms/step\n",
      "Safe Flows:  14\n",
      "Possible Hostile Flows:  1\n",
      "Percentage of Hostile Flows:  6.666666666666667\n",
      "\n",
      "\n",
      "\u001b[1m1/1\u001b[0m \u001b[32m━━━━━━━━━━━━━━━━━━━━\u001b[0m\u001b[37m\u001b[0m \u001b[1m0s\u001b[0m 119ms/step\n",
      "Safe Flows:  19\n",
      "Possible Hostile Flows:  1\n",
      "Percentage of Hostile Flows:  5.0\n",
      "\n",
      "\n",
      "\u001b[1m1/1\u001b[0m \u001b[32m━━━━━━━━━━━━━━━━━━━━\u001b[0m\u001b[37m\u001b[0m \u001b[1m0s\u001b[0m 112ms/step\n",
      "Safe Flows:  24\n",
      "Possible Hostile Flows:  1\n",
      "Percentage of Hostile Flows:  4.0\n",
      "\n",
      "\n",
      "\u001b[1m1/1\u001b[0m \u001b[32m━━━━━━━━━━━━━━━━━━━━\u001b[0m\u001b[37m\u001b[0m \u001b[1m0s\u001b[0m 73ms/step\n",
      "Safe Flows:  27\n",
      "Possible Hostile Flows:  1\n",
      "Percentage of Hostile Flows:  3.5714285714285716\n",
      "\n",
      "\n",
      "Finish!\n"
     ]
    }
   ],
   "source": [
    "def main():\n",
    "    live = True\n",
    "    select = input('Selection (0 or 1): ')\n",
    "    if (select == \"1\"):\n",
    "        modelname = input(\"Please enter model: \")\n",
    "        while live:\n",
    "            result = predictFlow(modelname)\n",
    "            if result == \"Attack\": #nếu return là attack sẽ dừng lại và in ra cảnh báo DDoS\n",
    "                live = False\n",
    "                print(\"DDoS ATTACK DETECTED !!!\", datetime.datetime.now().strftime(\"%Y-%m-%d %H:%M\"))\n",
    "            elif result == 1: #mlp_live_prediction = 1 thực hiện trên 1 file csv hoàn chỉnh\n",
    "                live = False\n",
    "            else:\n",
    "                time.sleep(30)\n",
    "main()"
   ]
  },
  {
   "cell_type": "code",
   "execution_count": null,
   "id": "9a2d5ce1",
   "metadata": {},
   "outputs": [],
   "source": []
  }
 ],
 "metadata": {
  "colab": {
   "provenance": []
  },
  "kernelspec": {
   "display_name": "Python 3 (ipykernel)",
   "language": "python",
   "name": "python3"
  },
  "language_info": {
   "codemirror_mode": {
    "name": "ipython",
    "version": 3
   },
   "file_extension": ".py",
   "mimetype": "text/x-python",
   "name": "python",
   "nbconvert_exporter": "python",
   "pygments_lexer": "ipython3",
   "version": "3.11.7"
  }
 },
 "nbformat": 4,
 "nbformat_minor": 5
}
